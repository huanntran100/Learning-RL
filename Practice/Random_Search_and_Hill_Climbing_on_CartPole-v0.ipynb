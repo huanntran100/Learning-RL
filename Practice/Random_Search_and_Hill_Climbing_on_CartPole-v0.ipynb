{
 "cells": [
  {
   "cell_type": "markdown",
   "metadata": {},
   "source": [
    "# Random Search and Hill Climbing on CartPole-v0\n",
    "Based on: http://kvfrans.com/simple-algoritms-for-solving-cartpole/  "
   ]
  },
  {
   "cell_type": "code",
   "execution_count": 865,
   "metadata": {
    "collapsed": true
   },
   "outputs": [],
   "source": [
    "import matplotlib.pyplot as plt\n",
    "%matplotlib inline \n",
    "\n",
    "import gym\n",
    "import numpy as np\n",
    "import time\n",
    "import tensorflow as tf\n",
    "\n",
    "# Parameters\n",
    "timeSteps = 200 # Time steps per episode\n",
    "randomTimeSteps = 10000 # Time steps for multiepisodic training\n",
    "observationSpace = 4 # Size of CartPole-v0 observation vector\n",
    "actionSpace = 2 # Size of CartPole-v0 action vector\n",
    "noise = 0.001 # Noise scaling for hill climbing\n",
    "noiseStep = 0.001 # Noise increase for hill climbing"
   ]
  },
  {
   "cell_type": "markdown",
   "metadata": {},
   "source": [
    "## CartPole-v0  \n",
    "I run a random simulation of the environement to get an idea of how the observations and actions look, and what balancing the pole without an optimal policy looks like. For the following experiments, a terminal state is defined as 1) when pole fails to be balanced or 2) when t = 200 timesteps. Solving is defined here https://gym.openai.com/envs/CartPole-v0/ as achieving an average cumulative reward of 195.0+ over 100 consecutive trials. "
   ]
  },
  {
   "cell_type": "code",
   "execution_count": 900,
   "metadata": {},
   "outputs": [
    {
     "name": "stderr",
     "output_type": "stream",
     "text": [
      "[2017-12-15 21:51:01,855] Making new env: CartPole-v0\n"
     ]
    },
    {
     "name": "stdout",
     "output_type": "stream",
     "text": [
      "Done on timestep: 31\n",
      "Example of action: 0\n",
      "Example of observation: [-0.10130247 -0.83506247  0.21682023  1.65809761]\n"
     ]
    }
   ],
   "source": [
    "env = gym.make('CartPole-v0')\n",
    "env.reset()\n",
    "for _ in range(1000):\n",
    "    env.render()\n",
    "    action = env.action_space.sample()\n",
    "    observation, reward, done, info = env.step(action)\n",
    "    if done == True:\n",
    "        print('Done on timestep:', _)\n",
    "        print('Example of action:', action)\n",
    "        print('Example of observation:', observation)\n",
    "        break \n",
    "env.render(close=True)"
   ]
  },
  {
   "cell_type": "markdown",
   "metadata": {},
   "source": [
    "**run_episode(env, parameters)** takes weights and environment as input and returns total reward for linear approximation.  \n",
    "**run_10_trials(env, parameters)** takes weights and environment as input and prints the results of running the environment 100 times for a 10 trials with the weights. "
   ]
  },
  {
   "cell_type": "code",
   "execution_count": 947,
   "metadata": {},
   "outputs": [],
   "source": [
    "def run_episode(env, parameters):\n",
    "    observation = env.reset()\n",
    "    totalReward = 0\n",
    "    for i in range(timeSteps):\n",
    "        # Choose action based on linear approximation\n",
    "        if np.matmul(observation, parameters) < 0: \n",
    "            action = 0\n",
    "        else: \n",
    "            action = 1\n",
    "        # Take a step in the environment\n",
    "        observation, reward, done, info = env.step(action)\n",
    "        # Append non-discounted cumulative reward \n",
    "        totalReward += reward \n",
    "        # If done, end the episode \n",
    "        if done:\n",
    "            break \n",
    "    return totalReward \n",
    "\n",
    "def run_10_trials(env, parameters):\n",
    "    print('Using the following best parameters: ', parameters)\n",
    "    for i in range(10):\n",
    "        overallReward = []\n",
    "        for j in range(100):\n",
    "            episodeReward = run_episode(env, parameters)\n",
    "            overallReward.append(episodeReward)\n",
    "        print('Trial', i, ': The average reward over 100 consecutive trials is:', np.mean(overallReward), 'and the max reward is:', np.max(overallReward))"
   ]
  },
  {
   "cell_type": "markdown",
   "metadata": {},
   "source": [
    "## Random Search Algorithm\n",
    "Generate 10,000 random configurations of parameters and find the set of weights that returns the greatest cumulative reward per episode. "
   ]
  },
  {
   "cell_type": "code",
   "execution_count": 921,
   "metadata": {},
   "outputs": [
    {
     "name": "stdout",
     "output_type": "stream",
     "text": [
      "Episode: 0 , Best Params: [ 0.15168838  0.86322282 -0.47353671  0.5841737 ] , Episode Reward: 9.0\n",
      "Episode: 3 , Best Params: [ 0.55149192  0.43250818  0.29038242  0.58593235] , Episode Reward: 10.0\n",
      "Episode: 6 , Best Params: [ 0.55149192  0.43250818  0.29038242  0.58593235] , Episode Reward: 37.0\n",
      "Episode: 9 , Best Params: [ 0.55149192  0.43250818  0.29038242  0.58593235] , Episode Reward: 9.0\n",
      "Episode: 12 , Best Params: [-0.32372492  0.15901937  0.96234089  0.91835329] , Episode Reward: 119.0\n",
      "Episode: 15 , Best Params: [-0.32372492  0.15901937  0.96234089  0.91835329] , Episode Reward: 10.0\n",
      "Episode: 18 , Best Params: [-0.32372492  0.15901937  0.96234089  0.91835329] , Episode Reward: 141.0\n",
      "Episode: 1000 , Best Params: [-0.32372492  0.15901937  0.96234089  0.91835329] , Episode Reward: 158.0\n",
      "Episode: 2000 , Best Params: [-0.32372492  0.15901937  0.96234089  0.91835329] , Episode Reward: 103.0\n",
      "Episode: 3000 , Best Params: [-0.32372492  0.15901937  0.96234089  0.91835329] , Episode Reward: 9.0\n",
      "Episode: 4000 , Best Params: [-0.32372492  0.15901937  0.96234089  0.91835329] , Episode Reward: 9.0\n",
      "Episode: 5000 , Best Params: [-0.32372492  0.15901937  0.96234089  0.91835329] , Episode Reward: 31.0\n",
      "Episode: 6000 , Best Params: [-0.32372492  0.15901937  0.96234089  0.91835329] , Episode Reward: 8.0\n",
      "Episode: 7000 , Best Params: [-0.32372492  0.15901937  0.96234089  0.91835329] , Episode Reward: 10.0\n",
      "Episode: 8000 , Best Params: [-0.32372492  0.15901937  0.96234089  0.91835329] , Episode Reward: 50.0\n",
      "Episode: 9000 , Best Params: [-0.32372492  0.15901937  0.96234089  0.91835329] , Episode Reward: 79.0\n",
      "Total random search training time: 4.570363521575928 seconds\n",
      "Average episodes to reach 200 timesteps: 13.6546\n"
     ]
    },
    {
     "data": {
      "image/png": "[encoded data removed]",
      "text/plain": [
       "<matplotlib.figure.Figure at 0x1d70a9534a8>"
      ]
     },
     "metadata": {},
     "output_type": "display_data"
    }
   ],
   "source": [
    "start_time = time.time() \n",
    "bestParameters = None \n",
    "bestTotalReward = 0 \n",
    "\n",
    "episodeBeforeSolve = []\n",
    "startEpisode = 0\n",
    "endEpisode = 0\n",
    "\n",
    "for _ in range(randomTimeSteps):\n",
    "    env.reset()\n",
    "    endEpisode = _ \n",
    "    \n",
    "    # Make random parameters \n",
    "    episodeParameters = np.random.uniform(-1, 1, size = observationSpace)\n",
    "    \n",
    "    # Run episode with random parameters\n",
    "    episodeReward = run_episode(env, episodeParameters)\n",
    "    if episodeReward > bestTotalReward: \n",
    "        bestTotalReward = episodeReward \n",
    "        bestParameters = episodeParameters \n",
    "    else: \n",
    "        bestTotalReward = bestTotalReward\n",
    "        bestParameters = bestParameters  \n",
    "    \n",
    "    # Get time steps until solve\n",
    "    episodeBeforeSolve.append(endEpisode - startEpisode)\n",
    "    if episodeReward == timeSteps:\n",
    "        startEpisode = endEpisode\n",
    "        \n",
    "    # Training log \n",
    "    if _ < 20:\n",
    "        if _ % 3 == 0: \n",
    "            print('Episode:', _, ', Best Params:', bestParameters, ', Episode Reward:', episodeReward)\n",
    "    else:\n",
    "        if _ % 1000 == 0:\n",
    "            print('Episode:', _, ', Best Params:', bestParameters, ', Episode Reward:', episodeReward)\n",
    "            \n",
    "\n",
    "end_time = time.time()\n",
    "print('Total random search training time:', end_time - start_time, 'seconds')\n",
    "\n",
    "# Plot weight distribution\n",
    "n = plt.hist(episodeBeforeSolve, bins = range(200))\n",
    "plt.title('Histogram')\n",
    "plt.xlabel('# Episodes Before Solve')\n",
    "plt.ylabel('Frequency')\n",
    "\n",
    "average = sum(episodeBeforeSolve)/len(episodeBeforeSolve)\n",
    "print('Average episodes to reach 200 timesteps:', average)"
   ]
  },
  {
   "cell_type": "markdown",
   "metadata": {},
   "source": [
    "We then take the best policy weights and determine if the environment is solved by running 100 consecutive trials and finding the average cumulative reward. Clearly, the random search algorithm performs well by getting average scores of over 195.0+ for 3 experimental trials, demonstrating the reproducibility of the policy. The drawback to this method is that it does not scale well into continuous state/action spaces. Since we only have two actions in this environment, randomly searching will do the trick."
   ]
  },
  {
   "cell_type": "code",
   "execution_count": 948,
   "metadata": {},
   "outputs": [
    {
     "name": "stdout",
     "output_type": "stream",
     "text": [
      "Using the following best parameters:  [ 10120.41473844 -21620.65029317  41313.47961883  30968.88313772]\n",
      "Trial 0 : The average reward over 100 consecutive trials is: 167.69 and the max reward is: 200.0\n",
      "Trial 1 : The average reward over 100 consecutive trials is: 171.56 and the max reward is: 200.0\n",
      "Trial 2 : The average reward over 100 consecutive trials is: 161.64 and the max reward is: 200.0\n",
      "Trial 3 : The average reward over 100 consecutive trials is: 164.77 and the max reward is: 200.0\n",
      "Trial 4 : The average reward over 100 consecutive trials is: 148.57 and the max reward is: 200.0\n",
      "Trial 5 : The average reward over 100 consecutive trials is: 159.53 and the max reward is: 200.0\n",
      "Trial 6 : The average reward over 100 consecutive trials is: 159.43 and the max reward is: 200.0\n",
      "Trial 7 : The average reward over 100 consecutive trials is: 159.57 and the max reward is: 200.0\n",
      "Trial 8 : The average reward over 100 consecutive trials is: 159.59 and the max reward is: 200.0\n",
      "Trial 9 : The average reward over 100 consecutive trials is: 160.22 and the max reward is: 200.0\n"
     ]
    }
   ],
   "source": [
    "run_10_trials(env, bestParameters)"
   ]
  },
  {
   "cell_type": "markdown",
   "metadata": {},
   "source": [
    "## Hill Climbing\n",
    "Initialize random weight and gradually increase in with noise until we find the best set of weights. "
   ]
  },
  {
   "cell_type": "code",
   "execution_count": 942,
   "metadata": {},
   "outputs": [
    {
     "name": "stdout",
     "output_type": "stream",
     "text": [
      "Episode: 1000 , Best Params: [ 1856.37680183 -7200.69253775  7461.0862475   5586.57162402] , Episode Reward: 200.0\n",
      "Episode: 2000 , Best Params: [   714.03005594   -903.64822383  15101.5121453   11551.5119267 ] , Episode Reward: 200.0\n",
      "Episode: 3000 , Best Params: [  3550.7745103    5221.56297251  23889.40939149  15833.51515279] , Episode Reward: 200.0\n",
      "Episode: 4000 , Best Params: [  3033.67445373    621.30953936  36021.51791537  28448.73836001] , Episode Reward: 200.0\n",
      "Episode: 5000 , Best Params: [  3699.21701003  -3418.23991344  31836.51344487  28305.27313991] , Episode Reward: 200.0\n",
      "Episode: 6000 , Best Params: [ 10321.14900777  -4731.40019022  28501.4097637   30331.95221915] , Episode Reward: 181.0\n",
      "Episode: 7000 , Best Params: [ 18702.08758104 -14284.492356    29425.26308084  25601.33172679] , Episode Reward: 111.0\n",
      "Episode: 8000 , Best Params: [ 16660.79596472 -15549.73703127  29025.38846285  26715.08091774] , Episode Reward: 89.0\n",
      "Episode: 9000 , Best Params: [ 20267.05302122 -23995.26908718  33765.92383694  28492.64128518] , Episode Reward: 185.0\n",
      "Total hill climb training time: 14.54141116142273 seconds\n",
      "Average episodes to reach 200 timesteps: 4.5812\n"
     ]
    },
    {
     "data": {
      "image/png": "[encoded data removed]",
      "text/plain": [
       "<matplotlib.figure.Figure at 0x1d70f762ef0>"
      ]
     },
     "metadata": {},
     "output_type": "display_data"
    }
   ],
   "source": [
    "start_time = time.time() \n",
    "bestParameters = None \n",
    "bestTotalReward = 0 \n",
    "episodeParameters = np.random.uniform(-1, 1, size = observationSpace)\n",
    "\n",
    "episodeBeforeSolve = []\n",
    "startEpisode = 0\n",
    "endEpisode = 0\n",
    "\n",
    "for _ in range(randomTimeSteps):\n",
    "    env.reset()\n",
    "    endEpisode = _ \n",
    "    \n",
    "    # Random hill climbing \n",
    "    episodeNoise = np.random.uniform(-1, 1, size = observationSpace) * noise \n",
    "    episodeParameters += episodeNoise\n",
    "     \n",
    "    # Run episode with random parameters\n",
    "    episodeReward = run_episode(env, episodeParameters)\n",
    "    if episodeReward > bestTotalReward: \n",
    "        bestTotalReward = episodeReward \n",
    "        bestParameters = episodeParameters \n",
    "    else:\n",
    "        noise += noiseStep\n",
    "        bestTotalReward = bestTotalReward\n",
    "        bestParameters = bestParameters  \n",
    "    \n",
    "    # Get time steps until solve\n",
    "    episodeBeforeSolve.append(endEpisode - startEpisode)\n",
    "    if episodeReward == timeSteps:\n",
    "        startEpisode = endEpisode\n",
    "\n",
    "    # Training log \n",
    "    if _ % 1000 == 0 and _ != 0:\n",
    "        print('Episode:', _, ', Best Params:', bestParameters, ', Episode Reward:', episodeReward)\n",
    "\n",
    "end_time = time.time()\n",
    "print('Total hill climb training time:', end_time - start_time, 'seconds')\n",
    "\n",
    "# Plot weight distribution \n",
    "n = plt.hist(episodeBeforeSolve, bins = range(200))\n",
    "plt.title('Histogram')\n",
    "plt.xlabel('Episodes Needed to Solve')\n",
    "plt.ylabel('Frequency')\n",
    "\n",
    "average = sum(episodeBeforeSolve)/len(episodeBeforeSolve)\n",
    "print('Average episodes to reach 200 timesteps:', average)"
   ]
  },
  {
   "cell_type": "markdown",
   "metadata": {},
   "source": [
    "We again take the best parameters and perform 3 trials of 100 episodes each. Hill Climbing does not reliably produce a set of good weights that achieve the \"solving\" goal if we initialize with a bad set of weights. Therefore, we have to repeat running the algorithm to output a good policy that holds the pole up most of the time. "
   ]
  },
  {
   "cell_type": "code",
   "execution_count": 949,
   "metadata": {},
   "outputs": [
    {
     "name": "stdout",
     "output_type": "stream",
     "text": [
      "Using the following best parameters:  [ 10120.41473844 -21620.65029317  41313.47961883  30968.88313772]\n",
      "Trial 0 : The average reward over 100 consecutive trials is: 161.38 and the max reward is: 200.0\n",
      "Trial 1 : The average reward over 100 consecutive trials is: 165.78 and the max reward is: 200.0\n",
      "Trial 2 : The average reward over 100 consecutive trials is: 161.7 and the max reward is: 200.0\n",
      "Trial 3 : The average reward over 100 consecutive trials is: 152.47 and the max reward is: 200.0\n",
      "Trial 4 : The average reward over 100 consecutive trials is: 171.18 and the max reward is: 200.0\n",
      "Trial 5 : The average reward over 100 consecutive trials is: 154.9 and the max reward is: 200.0\n",
      "Trial 6 : The average reward over 100 consecutive trials is: 155.76 and the max reward is: 200.0\n",
      "Trial 7 : The average reward over 100 consecutive trials is: 151.6 and the max reward is: 200.0\n",
      "Trial 8 : The average reward over 100 consecutive trials is: 156.4 and the max reward is: 200.0\n",
      "Trial 9 : The average reward over 100 consecutive trials is: 159.91 and the max reward is: 200.0\n"
     ]
    }
   ],
   "source": [
    "run_10_trials(env, bestParameters)"
   ]
  },
  {
   "cell_type": "markdown",
   "metadata": {},
   "source": []
  }
 ],
 "metadata": {
  "kernelspec": {
   "display_name": "Python 3",
   "language": "python",
   "name": "python3"
  },
  "language_info": {
   "codemirror_mode": {
    "name": "ipython",
    "version": 3
   },
   "file_extension": ".py",
   "mimetype": "text/x-python",
   "name": "python",
   "nbconvert_exporter": "python",
   "pygments_lexer": "ipython3",
   "version": "3.6.1"
  }
 },
 "nbformat": 4,
 "nbformat_minor": 2
}
