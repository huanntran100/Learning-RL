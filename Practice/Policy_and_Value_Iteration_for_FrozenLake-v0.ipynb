{
 "cells": [
  {
   "cell_type": "markdown",
   "metadata": {},
   "source": [
    "# Policy And Value Iteration for FrozenLake-v0\n",
    "Select problems from CMU's Deep RL HW1: https://katefvision.github.io/10703_hw1.pdf"
   ]
  },
  {
   "cell_type": "code",
   "execution_count": 40,
   "metadata": {
    "collapsed": true
   },
   "outputs": [],
   "source": [
    "import gym\n",
    "import numpy as np\n",
    "import seaborn as sns\n",
    "import time \n",
    "\n",
    "# To display seaborn heatmaps\n",
    "import matplotlib.pyplot as plt\n",
    "%matplotlib inline\n",
    "\n",
    "# So I can use the code that I wrote\n",
    "%run rl.py lake_envs.py"
   ]
  },
  {
   "cell_type": "markdown",
   "metadata": {},
   "source": [
    "**Policy Iteration - Deterministic 8x8 Frozen Lake**  "
   ]
  },
  {
   "cell_type": "code",
   "execution_count": 41,
   "metadata": {},
   "outputs": [
    {
     "name": "stderr",
     "output_type": "stream",
     "text": [
      "[2017-12-16 20:55:29,798] Making new env: Deterministic-8x8-FrozenLake-v0\n"
     ]
    },
    {
     "name": "stdout",
     "output_type": "stream",
     "text": [
      "0.04335 s; 59 policy evaluation steps; 5 policy improvement steps;\n"
     ]
    }
   ],
   "source": [
    "#a - Policy Iteration \n",
    "gamma = 0.9 \n",
    "max_iterations = 1000\n",
    "tolerance = 1e-3 \n",
    "\n",
    "env = gym.make('Deterministic-8x8-FrozenLake-v0')\n",
    "env.reset()\n",
    "\n",
    "start = time.time()\n",
    "optimal_policy, optimal_value, eval_count, improve_count = policy_iteration(env, gamma, max_iterations, tolerance)\n",
    "end = time.time()\n",
    "print(\"{0:.5f}\".format(end - start) + ' s;', eval_count, 'policy evaluation steps;', improve_count, 'policy improvement steps;')"
   ]
  },
  {
   "cell_type": "code",
   "execution_count": 42,
   "metadata": {},
   "outputs": [
    {
     "name": "stdout",
     "output_type": "stream",
     "text": [
      "[['D' 'D' 'D' 'D' 'D' 'D' 'D' 'D']\n",
      " ['D' 'D' 'D' 'R' 'D' 'D' 'D' 'D']\n",
      " ['D' 'D' 'D' 'L' 'D' 'R' 'D' 'D']\n",
      " ['R' 'R' 'R' 'R' 'D' 'L' 'D' 'D']\n",
      " ['R' 'R' 'U' 'L' 'D' 'D' 'R' 'D']\n",
      " ['D' 'L' 'L' 'R' 'R' 'D' 'L' 'D']\n",
      " ['D' 'L' 'R' 'U' 'L' 'D' 'L' 'D']\n",
      " ['R' 'R' 'U' 'L' 'R' 'R' 'R' 'L']]\n"
     ]
    }
   ],
   "source": [
    "#b - Optimal Policy using Policy Iteration\n",
    "optimal_policy_map = print_policy(optimal_policy, lake_envs.action_names)"
   ]
  },
  {
   "cell_type": "code",
   "execution_count": 43,
   "metadata": {},
   "outputs": [
    {
     "data": {
      "image/png": "[encoded data removed]",
      "text/plain": [
       "<matplotlib.figure.Figure at 0x1f4122be630>"
      ]
     },
     "metadata": {},
     "output_type": "display_data"
    }
   ],
   "source": [
    "#c- Value Function Color Plot - Policy Iteration \n",
    "print_value_function(optimal_value)"
   ]
  },
  {
   "cell_type": "code",
   "execution_count": 44,
   "metadata": {},
   "outputs": [
    {
     "name": "stdout",
     "output_type": "stream",
     "text": [
      "0.00902 s; 64 value iteration steps;\n"
     ]
    }
   ],
   "source": [
    "#d - Value Iteration\n",
    "env.reset()\n",
    "start = time.time()\n",
    "optimal_value, iter_count = value_iteration(env, gamma, max_iterations, tolerance)\n",
    "end = time.time()\n",
    "print(\"{0:.5f}\".format(end - start) + ' s;', iter_count, 'value iteration steps;')"
   ]
  },
  {
   "cell_type": "code",
   "execution_count": 45,
   "metadata": {},
   "outputs": [
    {
     "data": {
      "image/png": "[encoded data removed]",
      "text/plain": [
       "<matplotlib.figure.Figure at 0x1f412143860>"
      ]
     },
     "metadata": {},
     "output_type": "display_data"
    }
   ],
   "source": [
    "#e - Value Function Color Plot - Value Iteration \n",
    "print_value_function(optimal_value)"
   ]
  },
  {
   "cell_type": "markdown",
   "metadata": {},
   "source": [
    "Value Iteration was faster at 0.00702s, and required 64 iterations. Policy Iteration was slower at 0.03909s, and also required 64 iterations - 59 from policy evaluation and 5 from policy improvement. The value functions for policy and value iteration appear to be the same. "
   ]
  },
  {
   "cell_type": "code",
   "execution_count": 46,
   "metadata": {},
   "outputs": [
    {
     "name": "stdout",
     "output_type": "stream",
     "text": [
      "[['D' 'D' 'D' 'D' 'D' 'D' 'D' 'D']\n",
      " ['D' 'D' 'D' 'R' 'D' 'D' 'D' 'D']\n",
      " ['D' 'D' 'D' 'L' 'D' 'R' 'D' 'D']\n",
      " ['R' 'R' 'R' 'R' 'D' 'L' 'D' 'D']\n",
      " ['R' 'R' 'U' 'L' 'D' 'D' 'R' 'D']\n",
      " ['D' 'L' 'L' 'R' 'R' 'D' 'L' 'D']\n",
      " ['D' 'L' 'R' 'U' 'L' 'D' 'L' 'D']\n",
      " ['R' 'R' 'U' 'L' 'R' 'R' 'R' 'L']]\n"
     ]
    }
   ],
   "source": [
    "#h - Optimal Policy using Value Iteration\n",
    "\n",
    "#Extract optimal policy function\n",
    "optimal_policy_func = value_function_to_policy(env, gamma, optimal_value)\n",
    "\n",
    "#Using policy improvement on optimal value function to get optimal policy\n",
    "optimal_policy = improve_policy(env, gamma, optimal_value, optimal_policy_func)\n",
    "\n",
    "#Print policy map \n",
    "optimal_policy = print_policy(optimal_policy_func, lake_envs.action_names)"
   ]
  },
  {
   "cell_type": "code",
   "execution_count": 47,
   "metadata": {},
   "outputs": [
    {
     "name": "stdout",
     "output_type": "stream",
     "text": [
      "Total discounted cumulative reward:  0.254186582833\n",
      "This makes sense because the agent does not received any reward until the final step, which is discounted. Furthermore, the numbers are different because we are only considering cumulative reward and not state value in this case.\n"
     ]
    }
   ],
   "source": [
    "#i - Agent Executing Optimal Policy \n",
    "execute_policy(env, gamma, optimal_policy_func)\n",
    "print('This makes sense because the agent does not received any reward until the final step, which is discounted. Furthermore, the numbers are different because we are only considering cumulative reward and not state value in this case.')"
   ]
  },
  {
   "cell_type": "markdown",
   "metadata": {},
   "source": [
    "**Value Iteration - Stochastic 4x4 Frozen Lake** "
   ]
  },
  {
   "cell_type": "code",
   "execution_count": 48,
   "metadata": {},
   "outputs": [
    {
     "name": "stderr",
     "output_type": "stream",
     "text": [
      "[2017-12-16 20:55:34,240] Making new env: Stochastic-4x4-FrozenLake-v0\n"
     ]
    },
    {
     "name": "stdout",
     "output_type": "stream",
     "text": [
      "0.00552 s; 16 value iteration steps;\n"
     ]
    }
   ],
   "source": [
    "#a - Value Iteration\n",
    "env = gym.make('Stochastic-4x4-FrozenLake-v0')\n",
    "env.reset()\n",
    "\n",
    "start = time.time()\n",
    "optimal_value, iter_count = value_iteration(env, gamma, max_iterations, tolerance)\n",
    "end = time.time()\n",
    "print(\"{0:.5f}\".format(end - start) + ' s;', iter_count, 'value iteration steps;')"
   ]
  },
  {
   "cell_type": "code",
   "execution_count": 49,
   "metadata": {},
   "outputs": [
    {
     "data": {
      "image/png": "[encoded data removed]",
      "text/plain": [
       "<matplotlib.figure.Figure at 0x1f412160ac8>"
      ]
     },
     "metadata": {},
     "output_type": "display_data"
    }
   ],
   "source": [
    "#b - Value Function Color Plot - Value Iteration \n",
    "print_value_function(optimal_value)"
   ]
  },
  {
   "cell_type": "code",
   "execution_count": 50,
   "metadata": {},
   "outputs": [
    {
     "name": "stdout",
     "output_type": "stream",
     "text": [
      "[['L' 'U' 'L' 'U']\n",
      " ['L' 'L' 'L' 'L']\n",
      " ['U' 'D' 'L' 'L']\n",
      " ['L' 'R' 'D' 'L']]\n"
     ]
    }
   ],
   "source": [
    "#c - Optimal Policy using Value Iteration\n",
    "\n",
    "#Extract optimal policy function\n",
    "optimal_policy_func = value_function_to_policy(env, gamma, optimal_value)\n",
    "\n",
    "#Using policy improvement on optimal value function to get optimal policy\n",
    "optimal_policy = improve_policy(env, gamma, optimal_value, optimal_policy_func)\n",
    "\n",
    "#Print policy map \n",
    "optimal_policy = print_policy(optimal_policy_func, lake_envs.action_names)"
   ]
  },
  {
   "cell_type": "markdown",
   "metadata": {},
   "source": [
    "**d**: For being in some state s, the environment dynamics differ, which will affect what the optimal action is. For example, in the deterministic case, when choosing to go up, the agent will go up with 1.0 probability. However, in the stochastic case, choosing up allows for a 2/3 chance of going left or right.  "
   ]
  },
  {
   "cell_type": "code",
   "execution_count": 51,
   "metadata": {},
   "outputs": [
    {
     "name": "stdout",
     "output_type": "stream",
     "text": [
      "Total discounted cumulative reward:  0.135085171767\n"
     ]
    }
   ],
   "source": [
    "#e - Agent Executing Optimal Policy \n",
    "execute_policy(env, gamma, optimal_policy_func)"
   ]
  },
  {
   "cell_type": "markdown",
   "metadata": {},
   "source": [
    "**Contraction Mapping Theorem and Bellman Optimality Math Problems**\n"
   ]
  },
  {
   "cell_type": "markdown",
   "metadata": {},
   "source": [
    "**a):** Prove that V* is a unique fixed point of F*, i.e. F*V* = V* and that if F*V = V and F*V'=V' for two value functions V,V' in the set of real numbers, then V = V', i.e., V(s) = V'(s) for all states s.\n",
    "\n",
    "**Rough Proof**:\n",
    "Assume V and V' are distinct value functions. Therefore, the fixed points V* and V'* are distinct. This is the same as saying the following: 0 < distance(V*,V'*) = distance(F*V*, F*V'*) <= c*distance(V*,V'*). However, because c = (0,1), distance(V*,V'*) <= c*distance(V*,V'*) is false. Therefore, the assumption is wrong and we have a contradiction. The only case for which this is true is when distance(V*,V'*) = 0. Therefore, V* = V'* and V* is a unique fixed point of F*. \n",
    "\n",
    "**b):** Prove that F*^k(Vo) converges to V* as k goes to infinity.\n",
    "\n",
    "**Rough Proof**:\n",
    "Basically, you can use the knowledge that a sequence of value functions {Vk} is Cauchy in R^s and has a limit V* as k goes to infinity. Since F* is continuous, then F*V = F lim(V_k) as k --> infinity = lim (F V_k) as k --> infinity = lim (V k+1) as k --> infinity = V*. \n",
    "\n",
    "**c):** For some optimal value function V*, write down policy extraction. \n",
    "\n",
    "**Answer**: optimal policy = maximal action value over all action values from  s to s', where V*(s') gives the optimal value for the next state. "
   ]
  },
  {
   "cell_type": "code",
   "execution_count": null,
   "metadata": {
    "collapsed": true
   },
   "outputs": [],
   "source": []
  }
 ],
 "metadata": {
  "kernelspec": {
   "display_name": "Python 3",
   "language": "python",
   "name": "python3"
  },
  "language_info": {
   "codemirror_mode": {
    "name": "ipython",
    "version": 3
   },
   "file_extension": ".py",
   "mimetype": "text/x-python",
   "name": "python",
   "nbconvert_exporter": "python",
   "pygments_lexer": "ipython3",
   "version": "3.6.1"
  }
 },
 "nbformat": 4,
 "nbformat_minor": 2
}
