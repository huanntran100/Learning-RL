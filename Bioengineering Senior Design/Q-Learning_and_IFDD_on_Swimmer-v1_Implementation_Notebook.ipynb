{
 "cells": [
  {
   "cell_type": "markdown",
   "metadata": {},
   "source": [
    "# Q-Learning and IFDD on Swimmer-v1\n",
    "The following is the Python implementation of my Bioengineering team senior design project, which was originally written in C# on Unity3D. I naively discretize the state and action space for the sake of the replicating results from the senior design project. \n",
    "- **[Senior Design Final Report](https://drive.google.com/open?id=1coUBo_D95IpVDD-34JmWLuZ5b4kTrTGz)**\n",
    "- **RL Algorithm**: [Q-Learning](https://en.wikipedia.org/wiki/Q-learning) \n",
    "- **Feature Generalization Algorithm**: [Incremental Feature Dependency Discovery](http://people.csail.mit.edu/agf/Homepage/Research/Entries/2011/12/13_Incremental_Feature_Dependency_Discovery.html)\n",
    "- **Environment**: [Swimmer-v1](https://gym.openai.com/envs/Swimmer-v1/) (3-link, 2-joint snake robot)"
   ]
  },
  {
   "cell_type": "markdown",
   "metadata": {},
   "source": [
    "### Summary of Environment\n",
    "- We randomly run the environment to see how the observations and actions look like. The actions correspond to angle changes in degrees. The observations correspond to position and velocity. The agent is naive to its angle joints unlike in the senior design project, but can detect features such as position and velocity."
   ]
  },
  {
   "cell_type": "code",
   "execution_count": 1,
   "metadata": {},
   "outputs": [
    {
     "name": "stderr",
     "output_type": "stream",
     "text": [
      "[2017-12-31 22:56:50,004] Making new env: Swimmer-v1\n"
     ]
    },
    {
     "name": "stdout",
     "output_type": "stream",
     "text": [
      "Example of observation: [-0.08109433  0.082452    0.10672309 -0.07045632 -0.1433563   0.00579754\n",
      " -0.46916314  0.84124178]\n",
      "Example of action: [ 0.09762701  0.43037873]\n",
      "Example of observation: [-0.10998143 -0.16661395  0.80204042 -0.28888597  0.13157138 -0.37787671\n",
      " -0.43963837  2.56318907]\n",
      "Example of action: [ 0.95723668  0.59831713]\n",
      "Example of observation: [ 0.29600597 -1.13466024  1.74085149 -0.02795874 -0.56031318  0.62349145\n",
      " -1.0742205  -0.35476961]\n",
      "Example of action: [-0.2809842  -0.12593609]\n",
      "Example of observation: [ 0.44042161 -1.12662837  1.05830129  0.70285053 -0.34945979  0.66627274\n",
      "  0.46954581 -3.31145821]\n",
      "Example of action: [-0.68206083 -0.77924972]\n",
      "Example of observation: [ 0.04464677  0.13556126 -0.72802531 -0.25083875  0.76133539 -0.47559985\n",
      "  1.89179695 -3.07616744]\n",
      "Example of action: [-0.36403364 -0.17147401]\n"
     ]
    }
   ],
   "source": [
    "import matplotlib.pyplot as plt\n",
    "%matplotlib inline \n",
    "\n",
    "import gym\n",
    "import numpy as np\n",
    "import time\n",
    "import tensorflow as tf\n",
    "import itertools\n",
    "from itertools import chain\n",
    "from itertools import combinations\n",
    "\n",
    "# Setting up the Swimmer-v1 environment\n",
    "env = gym.make('Swimmer-v1')\n",
    "env.reset()\n",
    "for _ in range(50):\n",
    "    action = env.action_space.sample()\n",
    "    observation, reward, done, info = env.step(action)\n",
    "    if _ % 10 == 0:\n",
    "        for i in range(len(observation)):\n",
    "            observation[i] = observation[i]\n",
    "        print('Example of observation:', observation)\n",
    "        print('Example of action:', action)"
   ]
  },
  {
   "cell_type": "markdown",
   "metadata": {},
   "source": [
    "### Q-Learning Linear Approximation\n",
    "We approximation the Q-value function as so:  \n",
    "- Qπ(s, a) = θT * φ(s, a), where θ is a transposed weight vector with shape (1, # features), and φ(s, a) is a basis function with shape (# features, actions).  \n",
    "- The output is a (1, number of possible actions) vector with the Q-values for each action. "
   ]
  },
  {
   "cell_type": "markdown",
   "metadata": {},
   "source": [
    "### Incremental Feature Dependency Discovery (IFDD)\n",
    "Basically, we expand the weights for linear approximation to include new features as they are \"discovered\". The algorithm in picture form is presented below:   \n",
    "<img style=\"float: left;\" src=\"http://people.csail.mit.edu/agf/Homepage/Research/Entries/2011/12/13_Incremental_Feature_Dependency_Discovery_files/shapeimage_2.png\", width=\"300\" height=\"300\">"
   ]
  },
  {
   "cell_type": "markdown",
   "metadata": {},
   "source": [
    "### Components\n",
    "#### Environment \n",
    "- **State**: the (1, 8) observation taken directly from the environment. \n",
    "- **Action**: the (1, 2) action taken by the agent.\n",
    "- **Possible actions**: [-0.36, 0, +0.36] degrees  \n",
    "\n",
    "#### Features\n",
    "- **Observation**: the raw information (1, 10) vector including the state and action taken. \n",
    "- **Processed observation**: the discretized information (1, 10) vector including the state and action taken. \n",
    "- **Features**: for each of the 8 state indexes, we define 11 features ranging from [-5, 5]. For each of the 2 action indexes, we define 9 features ranging from [-0.144, 0.144]. There are a total of 200 features but only 10 can be active at 1 time. We start with a powerset of only 10 initial active features, from which we add to the representation.   \n",
    "- **State features**: [-5, -4, -3, -2, -1, 0, 1, 2, 3, 4, 5]. If the observation exceeds these limits, then the observation is clipped at -5 or 5. \n",
    "- **Action features**: [-0.144 -0.108 -0.072 -0.036  0. 0.036  0.072  0.108 0.144]. If the angle movement exceeds these limits, then the action is clipped at -0.144 or 0.144.   "
   ]
  },
  {
   "cell_type": "code",
   "execution_count": 2,
   "metadata": {},
   "outputs": [
    {
     "name": "stderr",
     "output_type": "stream",
     "text": [
      "[2017-12-31 22:56:50,318] Making new env: Swimmer-v1\n"
     ]
    },
    {
     "name": "stdout",
     "output_type": "stream",
     "text": [
      "Example of action: [ 0.35563307 -0.45998405]\n",
      "Example of observation: [-0.04312105 -0.05808634  0.05101822  0.07621768  0.74405932 -0.77297774\n",
      "  1.62861002 -1.61654699]\n",
      "Example of action: [ 0.45050856  0.00264876]\n",
      "Example of observation: [-0.21482754  0.00693234  0.52327791  0.38160174  1.85856869 -2.07291074\n",
      "  3.09042959 -0.6928444 ]\n",
      "Example of action: [ 0.79309319 -0.26487626]\n",
      "Example of observation: [-0.62920031  0.71439942  0.16027833  0.56152743  1.34849032 -1.5243296\n",
      "  2.97840601 -2.56087439]\n",
      "Example of action: [ 0.39485755 -0.09291463]\n",
      "Example of observation: [-0.489521    0.18295795  1.14329612 -0.19255503 -0.30513235  0.20016663\n",
      " -0.72124709  1.03130765]\n",
      "Example of action: [-0.67061169  0.2429568 ]\n",
      "Example of observation: [-0.73818406  0.52856708  1.00732738  0.25824717  0.25188848 -0.24220086\n",
      "  0.67628593 -1.22490134]\n"
     ]
    }
   ],
   "source": [
    "# Setting up the Swimmer-v1 environment\n",
    "env = gym.make('Swimmer-v1')\n",
    "env.reset()\n",
    "for episode in range(1):\n",
    "    for timeSteps in range(50):\n",
    "        action = env.action_space.sample()\n",
    "        observation, reward, done, info = env.step(action)\n",
    "        if timeSteps % 10 == 0:\n",
    "            for i in range(len(observation)):\n",
    "                observation[i] = (observation[i])\n",
    "            print('Example of action:', action)\n",
    "            print('Example of observation:', observation)"
   ]
  },
  {
   "cell_type": "markdown",
   "metadata": {},
   "source": [
    "- We write a method for generating random observations for testing our other methods."
   ]
  },
  {
   "cell_type": "code",
   "execution_count": 3,
   "metadata": {},
   "outputs": [],
   "source": [
    "def generateObservation():\n",
    "    env.reset()\n",
    "    for episode in range(1):\n",
    "        randomEpisode = np.random.randint(100)\n",
    "        for timeSteps in range(randomEpisode):\n",
    "            action = env.action_space.sample()\n",
    "            observation, reward, done, info = env.step(action)\n",
    "    testState = observation\n",
    "    testAction = randomAction()\n",
    "    print('Sample Observation:', testState, '\\nSample Action:', testAction)\n",
    "    return testState, testAction\n",
    "\n",
    "# Output: random action\n",
    "def randomAction():\n",
    "    global ACTION_LEN\n",
    "    randomAction = []\n",
    "    for i in range(ACTION_LEN):\n",
    "        randomIndex = np.random.randint(len(POSSIBLE_ACTIONS))\n",
    "        randomAction.append(POSSIBLE_ACTIONS[randomIndex])\n",
    "    return randomAction\n",
    "\n",
    "# Output: random state\n",
    "def randomState():\n",
    "    global STATE_LEN\n",
    "    randomState = []\n",
    "    for i in range(STATE_LEN):\n",
    "        randomIndex = np.random.randint(min(STATE_FEATURES), max(STATE_FEATURES))\n",
    "        randomState.append(STATE_FEATURES[randomIndex])\n",
    "    return randomState\n",
    "    \n",
    "\n",
    "# Output: randomly generated observation \n",
    "def generateRandomStateActionPair():\n",
    "    state = randomState()\n",
    "    action = randomAction()\n",
    "    return state, action"
   ]
  },
  {
   "cell_type": "markdown",
   "metadata": {},
   "source": [
    "- We set up the features for both states and actions. We also set up the feature map for processing the processed observation from the environment. These remain unchanged throughout training. We also define epsilon for the e-greedy policy. "
   ]
  },
  {
   "cell_type": "code",
   "execution_count": 730,
   "metadata": {},
   "outputs": [
    {
     "name": "stdout",
     "output_type": "stream",
     "text": [
      "State Features: [-5, -4, -3, -2, -1, 0, -1, -2, -3, -4, -5] \n",
      "Action Features: [-0.144, -0.108, -0.072, -0.036, 0.0, 0.036, 0.072, 0.108, 0.144] \n",
      "Feature Map: [[-5, -4, -3, -2, -1, 0, -1, -2, -3, -4, -5], [-5, -4, -3, -2, -1, 0, -1, -2, -3, -4, -5], [-5, -4, -3, -2, -1, 0, -1, -2, -3, -4, -5], [-5, -4, -3, -2, -1, 0, -1, -2, -3, -4, -5], [-5, -4, -3, -2, -1, 0, -1, -2, -3, -4, -5], [-5, -4, -3, -2, -1, 0, -1, -2, -3, -4, -5], [-5, -4, -3, -2, -1, 0, -1, -2, -3, -4, -5], [-5, -4, -3, -2, -1, 0, -1, -2, -3, -4, -5], [-0.144, -0.108, -0.072, -0.036, 0.0, 0.036, 0.072, 0.108, 0.144], [-0.144, -0.108, -0.072, -0.036, 0.0, 0.036, 0.072, 0.108, 0.144]]\n",
      "The first new feature is added at this index: 146\n"
     ]
    }
   ],
   "source": [
    "STATE_LEN = 8\n",
    "ACTION_LEN = 2 \n",
    "OBSERVATION_SIZE = STATE_LEN + ACTION_LEN\n",
    "STATE_FEATURES = [-5, -4, -3, -2, -1, 0, -1, -2, -3, -4, -5]\n",
    "ACTION_FEATURES = [-0.144, -0.108, -0.072, -0.036, 0., 0.036, 0.072, 0.108, 0.144]\n",
    "POSSIBLE_ACTIONS = [-0.036, 0, 0.036]\n",
    "FEATURE_MAP = []\n",
    "for i in range(OBSERVATION_SIZE):\n",
    "    if i < STATE_LEN: FEATURE_MAP.append(STATE_FEATURES)\n",
    "    else: FEATURE_MAP.append(ACTION_FEATURES)\n",
    "print('State Features:', STATE_FEATURES, '\\nAction Features:', ACTION_FEATURES, '\\nFeature Map:', FEATURE_MAP)\n",
    "EPSILON = 0.01 # epsilon-greedy \n",
    "THRESHOLD = 0.9\n",
    "GAMMA = 0.001 # probability of discovering new feature if exceed threshold\n",
    "THETA = 0.0001 # probability of adding new feature to undiscovered set\n",
    "DISCOUNT_FACTOR = 0.001 # Q-learning\n",
    "LEARNING_RATE = 0.001 # weight TD update \n",
    "# ADDITIONAL_FEATURE_INDEX = len([item for sublist in FEATURE_MAP for item in sublist]) # number of current features \n",
    "print('The first new feature is added at this index:', ADDITIONAL_FEATURE_INDEX)"
   ]
  },
  {
   "cell_type": "markdown",
   "metadata": {},
   "source": [
    "- We set up an observation processor. "
   ]
  },
  {
   "cell_type": "code",
   "execution_count": 5,
   "metadata": {},
   "outputs": [
    {
     "name": "stdout",
     "output_type": "stream",
     "text": [
      "Sample Observation: [ 0.4764787  -0.98325612  0.67889959 -0.02810449  0.08006111 -0.18264584\n",
      "  0.33157685 -0.60220512] \n",
      "Sample Action: [-0.036, 0]\n",
      "Test Processed Observation: [0, 0, 0, 0, 0, 0, 0, 0, -0.036, 0]\n"
     ]
    }
   ],
   "source": [
    "testState, testAction = generateObservation()\n",
    "\n",
    "# Input: state, action\n",
    "# Output: states + action observation rounded to nearest whole number (discretization)\n",
    "def observationProcessor(state, action):\n",
    "    global STATE_FEATURES\n",
    "    processedState = []\n",
    "    for i in range(len(state)): \n",
    "        processedState.append(int(state[i]))\n",
    "        if state[i] > max(STATE_FEATURES): processedState[i] = max(STATE_FEATURES)\n",
    "        elif state[i] < min(STATE_FEATURES): processedState[i] = min(STATE_FEATURES)\n",
    "    return processedState + action\n",
    " \n",
    "testObservation = observationProcessor(testState, testAction)\n",
    "print('Test Processed Observation:', testObservation)"
   ]
  },
  {
   "cell_type": "markdown",
   "metadata": {},
   "source": [
    "- We set up a basis function. This maps each component of the processed observation to a feature, which is then mapped to an index. This is where the feature will be set to 1 for \"active\" with 0 elsewhere."
   ]
  },
  {
   "cell_type": "code",
   "execution_count": 6,
   "metadata": {},
   "outputs": [
    {
     "name": "stdout",
     "output_type": "stream",
     "text": [
      "Sample Observation: [-0.20434763  1.12973408 -1.67807242 -0.04838913  0.3922066  -0.48260345\n",
      "  0.72835113  0.07297058] \n",
      "Sample Action: [0.036, 0.036]\n",
      "Test Processed Observation: [0, 0, -1, 0, 0, 0, 0, 0, 0.036, 0.036]\n",
      "Length Flattened Basis Function: 106 \n",
      "Active Indexes Basis Function [5, 16, 26, 38, 49, 60, 71, 82, 93, 102]\n"
     ]
    }
   ],
   "source": [
    "testState, testAction = generateObservation()\n",
    "testObservation = observationProcessor(testState, testAction)\n",
    "print('Test Processed Observation:', testObservation)\n",
    "\n",
    "# Input: processed observation\n",
    "# Output: flattened basis function  and indexes \n",
    "def basisFunction(observation):\n",
    "    global OBSERVATION_SIZE, STATE_FEATURES, ACTION_FEATURES\n",
    "    activeFeature = []\n",
    "    for i in range(OBSERVATION_SIZE):\n",
    "        index = FEATURE_MAP[i].index(observation[i])\n",
    "        if i < STATE_LEN:\n",
    "            basisRow = np.zeros(len(STATE_FEATURES))\n",
    "            basisRow[index]  = 1\n",
    "            activeFeature.append(list(basisRow))\n",
    "        else:\n",
    "            basisRow = np.zeros(len(ACTION_FEATURES))\n",
    "            basisRow[index] = 1\n",
    "            activeFeature.append(list(basisRow))\n",
    "    # Flatten active feature  \n",
    "    activeFeature = [item for sublist in activeFeature for item in sublist]\n",
    "    # Get all indexes that are 1\n",
    "    activeIndex = [i for i, item in enumerate(activeFeature) if item == 1]\n",
    "    return activeFeature, activeIndex\n",
    "\n",
    "testBasisFunction, testActiveIndex = basisFunction(testObservation)\n",
    "print('Length Flattened Basis Function:', len(testBasisFunction),'\\nActive Indexes Basis Function', testActiveIndex)"
   ]
  },
  {
   "cell_type": "markdown",
   "metadata": {},
   "source": [
    "- At this point, we need to define a powerset of initial features in order to update relevances and discover new features. Then we divide the set into two sets: discovered and undiscovered. \n",
    "- **Discovered**: contains features without relevance values since they are discovered. As features are discovered, this list becomes longer. Implemented as a dictionary in order to preserve ordering.\n",
    "- **Undiscovered**: contains features with relevance values since they are not discovered. This is updated during training. \n",
    "- We use the same process for calculating the basis function of observations during training, except we determine the powerset from the active indexes. "
   ]
  },
  {
   "cell_type": "code",
   "execution_count": 7,
   "metadata": {},
   "outputs": [
    {
     "name": "stdout",
     "output_type": "stream",
     "text": [
      "Sample Observation: [ 0.53844451 -1.49923713  1.73527611 -0.54791667  0.30853844 -0.53121665\n",
      "  0.03164423  1.64393109] \n",
      "Sample Action: [0.036, -0.036]\n",
      "Test Processed Observation: [0, -1, 0, 0, 0, 0, 0, 0, 0.036, -0.036]\n",
      "Length Test Initial Powerset: 1024\n",
      "Test Initial Discovered Set: {'0': {5}, '1': {15}, '2': {27}, '3': {38}, '4': {49}, '5': {60}, '6': {71}, '7': {82}, '8': {93}, '9': {100}} \n",
      "Length Test Initial Undiscovered Set: 1013\n"
     ]
    }
   ],
   "source": [
    "testInitialState, testInitialAction = generateObservation()\n",
    "testInitialObservation = observationProcessor(testInitialState, testInitialAction)\n",
    "print('Test Processed Observation:', testInitialObservation)\n",
    "\n",
    "testInitialBasisFunction, testInitialActiveIndex = basisFunction(testInitialObservation)\n",
    "\n",
    "# Input: list of active indexes\n",
    "# Output: powerset containing all subsets of active indexes as such: feature, relevance\n",
    "def getPowerSet(activeIndexes):\n",
    "    powerSet = []\n",
    "    # Initialize relevance values  \n",
    "    initialRelevance = 0\n",
    "    # +1 to include the complete set as a set\n",
    "    for i in range(len(activeIndexes) + 1):\n",
    "        conjunctions = [[set(combo), initialRelevance] for combo in itertools.combinations(activeIndexes, i)]\n",
    "        powerSet.append(conjunctions)\n",
    "    # Flatten powerset into 1-dim list\n",
    "    powerSet = [item for sublist in powerSet for item in sublist] \n",
    "    return powerSet\n",
    "\n",
    "testInitialPowerSet = getPowerSet(testInitialActiveIndex)\n",
    "print('Length Test Initial Powerset:', len(testInitialPowerSet))\n",
    "\n",
    "# Input: list of initial active indexes \n",
    "# Output: powerset containing \n",
    "def getInitialDiscoveredUndiscovered(initialActiveIndexes):\n",
    "    # Generate initial discovered set\n",
    "    discovered = dict()\n",
    "    for i in range(len(initialActiveIndexes)):\n",
    "        key = str(i)\n",
    "        discovered.update({key : set([initialActiveIndexes[i]])})\n",
    "    # Generate initial undiscovered set\n",
    "    initialPowerSet = getPowerSet(initialActiveIndexes)\n",
    "    # Undiscovered set does not include the size 1 initial features or the empty set, only conjunctions. \n",
    "    undiscovered =  [item for i, item in enumerate(initialPowerSet) if len(item[0]) > 1]    \n",
    "    return discovered, undiscovered\n",
    "\n",
    "initialDiscovered, initialUndiscovered = getInitialDiscoveredUndiscovered(testInitialActiveIndex)\n",
    "print('Test Initial Discovered Set:', initialDiscovered, '\\nLength Test Initial Undiscovered Set:', len(initialUndiscovered))"
   ]
  },
  {
   "cell_type": "markdown",
   "metadata": {},
   "source": [
    "- Next, we define a method for inactivating subsets of a conjunction if a conjunction is active. So if {71, 82} is discovered and active, then we set {71} and {82} in the basis function to be zero each."
   ]
  },
  {
   "cell_type": "code",
   "execution_count": 484,
   "metadata": {},
   "outputs": [
    {
     "name": "stdout",
     "output_type": "stream",
     "text": [
      "Sample Observation: [-0.28069538  0.01066398  1.67332149 -0.25852144 -1.20178706  1.38236383\n",
      " -2.05306044 -0.00421174] \n",
      "Sample Action: [0.036, -0.036]\n",
      "Test Random Discovered Feature: [{48, 27, 100}, 0]\n",
      "Dummy Test Discovered Set: {'0': {5}, '1': {16}, '2': {27}, '3': {38}, '4': {48}, '5': {60}, '6': {69}, '7': {82}, '8': {93}, '9': {100}, '106': {48, 27, 100}, '107': {100, 5, 38, 69, 16, 48, 82, 27, 60, 93}}\n",
      "Basis Function w/o discovered feature: 106\n",
      "Basis Function w/ discovered feature: 108\n",
      "Before inactivating conjunction subsets: [0.0, 0.0, 0.0, 0.0, 0.0, 1.0, 0.0, 0.0, 0.0, 0.0, 0.0, 0.0, 0.0, 0.0, 0.0, 0.0, 1.0, 0.0, 0.0, 0.0, 0.0, 0.0, 0.0, 0.0, 0.0, 0.0, 0.0, 1.0, 0.0, 0.0, 0.0, 0.0, 0.0, 0.0, 0.0, 0.0, 0.0, 0.0, 1.0, 0.0, 0.0, 0.0, 0.0, 0.0, 0.0, 0.0, 0.0, 0.0, 1.0, 0.0, 0.0, 0.0, 0.0, 0.0, 0.0, 0.0, 0.0, 0.0, 0.0, 0.0, 1.0, 0.0, 0.0, 0.0, 0.0, 0.0, 0.0, 0.0, 0.0, 1.0, 0.0, 0.0, 0.0, 0.0, 0.0, 0.0, 0.0, 0.0, 0.0, 0.0, 0.0, 0.0, 1.0, 0.0, 0.0, 0.0, 0.0, 0.0, 0.0, 0.0, 0.0, 0.0, 0.0, 1.0, 0.0, 0.0, 0.0, 0.0, 0.0, 0.0, 1.0, 0.0, 0.0, 0.0, 0.0, 0.0, 0, 0]\n",
      "After activating conjunction subsets: [0.0, 0.0, 0.0, 0.0, 0.0, 0.0, 0.0, 0.0, 0.0, 0.0, 0.0, 0.0, 0.0, 0.0, 0.0, 0.0, 0.0, 0.0, 0.0, 0.0, 0.0, 0.0, 0.0, 0.0, 0.0, 0.0, 0.0, 0.0, 0.0, 0.0, 0.0, 0.0, 0.0, 0.0, 0.0, 0.0, 0.0, 0.0, 0.0, 0.0, 0.0, 0.0, 0.0, 0.0, 0.0, 0.0, 0.0, 0.0, 0.0, 0.0, 0.0, 0.0, 0.0, 0.0, 0.0, 0.0, 0.0, 0.0, 0.0, 0.0, 0.0, 0.0, 0.0, 0.0, 0.0, 0.0, 0.0, 0.0, 0.0, 0.0, 0.0, 0.0, 0.0, 0.0, 0.0, 0.0, 0.0, 0.0, 0.0, 0.0, 0.0, 0.0, 0.0, 0.0, 0.0, 0.0, 0.0, 0.0, 0.0, 0.0, 0.0, 0.0, 0.0, 0.0, 0.0, 0.0, 0.0, 0.0, 0.0, 0.0, 0.0, 0.0, 0.0, 0.0, 0.0, 0.0, 0, 1.0]\n"
     ]
    }
   ],
   "source": [
    "testInitialState, testInitialAction = generateObservation()\n",
    "testInitialObservation = observationProcessor(testInitialState, testInitialAction)\n",
    "testInitialBasisFunction, testInitialActiveIndex = basisFunction(testInitialObservation)\n",
    "testInitialPowerSet = getPowerSet(testInitialActiveIndex)\n",
    "testInitialDiscovered, testInitialUndiscovered = getInitialDiscoveredUndiscovered(testInitialActiveIndex)\n",
    "\n",
    "# Modify initialDiscovered and initialUndiscovered to include a dummy discovered feature and the full set\n",
    "testRandomUndiscoveredIndex = np.random.randint(len(testInitialUndiscovered))\n",
    "testRandomFeature = testInitialUndiscovered[testRandomUndiscoveredIndex]\n",
    "print('Test Random Discovered Feature:', testRandomFeature)\n",
    "testInitialUndiscovered.remove(testRandomFeature)\n",
    "testInitialDiscovered.update({str(len(testInitialBasisFunction)): testRandomFeature[0]})\n",
    "testInitialDiscovered.update({str(len(testInitialBasisFunction) + 1): set(testInitialActiveIndex)})\n",
    "print('Dummy Test Discovered Set:', testInitialDiscovered)\n",
    "\n",
    "# Modifiy basis function to include dummy discovered feature\n",
    "print('Basis Function w/o discovered feature:', len(testInitialBasisFunction))\n",
    "testInitialBasisFunction.append(0)\n",
    "testInitialBasisFunction.append(0)\n",
    "print('Basis Function w/ discovered feature:', len(testInitialBasisFunction))\n",
    "\n",
    "\n",
    "# Input: set\n",
    "# Output: list of subsets\n",
    "def subset(mySet):\n",
    "    listSubset = []\n",
    "    for i in range(len(mySet) + 1):\n",
    "        listSubset.append(set(itertools.combinations(mySet, i)))\n",
    "    listSubset = [item for sublist in listSubset for item in sublist] \n",
    "    return listSubset\n",
    "\n",
    "\n",
    "# Input: active indexes and current basis function \n",
    "# Output: temp basis function for checking if all features active \n",
    "def getBasisFromActiveIndex(activeIndex, basisFunction):\n",
    "    tempBasis = np.zeros(len(basisFunction))\n",
    "    for i in range(len(activeIndex)):\n",
    "        tempBasis[activeIndex[i]] = 1.0\n",
    "    return tempBasis\n",
    "\n",
    "# Input: active indexes, current basis function, discovered\n",
    "# Output: temp basis function with subsets = 0 and conjunction = 1\n",
    "def activateConjunction(activeIndex, basisFunction, conjunctionKey):\n",
    "    for i in range(len(activeIndex)):\n",
    "        basisFunction[activeIndex[i]] = 0.0\n",
    "    activeConjunctionIndex = int(conjunctionKey)\n",
    "    basisFunction[activeConjunctionIndex] = 1.0\n",
    "    return basisFunction \n",
    " \n",
    "# Input: discovered set, basis function\n",
    "# Output: modified basis function \n",
    "def conjunctionBasisFunction(discoveredFeatures, basisFunction): \n",
    "    for key, feature in discoveredFeatures.items():\n",
    "        if len(feature) > 1: \n",
    "            featureSubsets = subset(feature)\n",
    "            for j in range(len(featureSubsets)):\n",
    "                activeIndex = list(featureSubsets[j])\n",
    "                tempBasis = getBasisFromActiveIndex(activeIndex, basisFunction)\n",
    "                if np.array_equal(tempBasis, basisFunction):\n",
    "                    basisFunction = activateConjunction(activeIndex, basisFunction, key)              \n",
    "    return basisFunction\n",
    "print('Before inactivating conjunction subsets:', testInitialBasisFunction)\n",
    "testModifiedBasisFunction = conjunctionBasisFunction(testInitialDiscovered, testInitialBasisFunction)\n",
    "print('After activating conjunction subsets:', testModifiedBasisFunction)"
   ]
  },
  {
   "cell_type": "markdown",
   "metadata": {},
   "source": [
    "- We define a weight vector to calculate Q-values for each action, as well as the epsilon greedy policy."
   ]
  },
  {
   "cell_type": "code",
   "execution_count": 9,
   "metadata": {},
   "outputs": [
    {
     "name": "stdout",
     "output_type": "stream",
     "text": [
      "Sample Observation: [-0.51769536  0.43663389  0.1758157   0.10255444  0.31688131 -0.104667\n",
      "  1.26137511 -3.01770102] \n",
      "Sample Action: [-0.036, 0]\n",
      "Weight vector shape: (106, 3)\n",
      "Test Q-values: [-0.84753314  1.60989985  0.10046736]\n",
      "Test Action: 0 Test Action Index: 1\n"
     ]
    }
   ],
   "source": [
    "testInitialState, testInitialAction = generateObservation()\n",
    "testInitialObservation = observationProcessor(testInitialState, testInitialAction)\n",
    "testInitialBasisFunction, testInitialActiveIndex = basisFunction(testInitialObservation)\n",
    "\n",
    "# Input: Q-values\n",
    "# Output: action, action index \n",
    "def epsilonGreedy(qValues):\n",
    "    global EPSILON, POSSIBLE_ACTIONS\n",
    "    randomNumber = np.random.uniform(0, 1)\n",
    "    if randomNumber < EPSILON:\n",
    "        actionIndex = np.argmax(qValues)\n",
    "        return POSSIBLE_ACTIONS[actionIndex], actionIndex\n",
    "    else: \n",
    "        actionIndex = np.random.randint(len(qValues))\n",
    "        return POSSIBLE_ACTIONS[actionIndex], actionIndex\n",
    "\n",
    "# Input: Q-values\n",
    "# Output: action vector \n",
    "def jointEpsilonGreedy(qValues):\n",
    "    jointAction = []\n",
    "    jointActionIndex = []\n",
    "    for i in range(ACTION_LEN):\n",
    "        action, actionIndex = epsilonGreedy(qValues)\n",
    "        jointAction.append(action)\n",
    "        jointActionIndex.append(actionIndex)\n",
    "    return jointAction, jointActionIndex\n",
    "    \n",
    "\n",
    "# Get weight vector\n",
    "WEIGHT_VECTOR = []\n",
    "for i in range(len(testInitialBasisFunction)):\n",
    "    WEIGHT_VECTOR.append(np.random.uniform(low = -1, high = 1, size = 3))\n",
    "WEIGHT_VECTOR = np.asarray(WEIGHT_VECTOR)\n",
    "print('Weight vector shape:', WEIGHT_VECTOR.shape)\n",
    "\n",
    "# Calculate Q-Value\n",
    "testQVals = np.dot(testInitialBasisFunction, WEIGHT_VECTOR)\n",
    "print('Test Q-values:', testQVals)\n",
    "\n",
    "# E-greedy policy\n",
    "testAction, testActionIndex = epsilonGreedy(testQVals)\n",
    "print('Test Action:', testAction, 'Test Action Index:', testActionIndex)"
   ]
  },
  {
   "cell_type": "markdown",
   "metadata": {},
   "source": [
    "- We then define a method for discovering new features and removing them from the undiscovered set. If we discover a new feature, we append another index location to the basis function and initialize another row in the weight vector. "
   ]
  },
  {
   "cell_type": "code",
   "execution_count": 731,
   "metadata": {},
   "outputs": [
    {
     "name": "stdout",
     "output_type": "stream",
     "text": [
      "Sample Observation: [ 0.69812433 -1.68998017  1.52133209  0.34047918  0.14730606 -0.28277391\n",
      "  1.125671   -2.16734139] \n",
      "Sample Action: [0.036, -0.036]\n",
      "Test Random Discovered Feature 1: [{100, 38, 71, 80, 27, 60}, 4] Test Random Discovered Feature 2: [{38, 71, 49, 60, 93}, 4]\n"
     ]
    }
   ],
   "source": [
    "testInitialState, testInitialAction = generateObservation()\n",
    "testInitialObservation = observationProcessor(testInitialState, testInitialAction)\n",
    "testInitialBasisFunction, testInitialActiveIndex = basisFunction(testInitialObservation)\n",
    "testInitialPowerSet = getPowerSet(testInitialActiveIndex)\n",
    "testInitialDiscovered, testInitialUndiscovered = getInitialDiscoveredUndiscovered(testInitialActiveIndex)\n",
    "\n",
    "# Modify initialDiscovered and initialUndiscovered to include a dummy discovered feature and the full set\n",
    "testRandomUndiscoveredIndex1 = np.random.randint(len(testInitialUndiscovered))\n",
    "testRandomUndiscoveredIndex2 = np.random.randint(len(testInitialUndiscovered))\n",
    "\n",
    "# Modify relevance to exceed threshold for discovery\n",
    "testInitialUndiscovered[testRandomUndiscoveredIndex1][1] = 4 \n",
    "testInitialUndiscovered[testRandomUndiscoveredIndex2][1] = 4\n",
    "testRandomFeature1 = testInitialUndiscovered[testRandomUndiscoveredIndex1]\n",
    "testRandomFeature2 = testInitialUndiscovered[testRandomUndiscoveredIndex2]\n",
    "print('Test Random Discovered Feature 1:', testRandomFeature1, 'Test Random Discovered Feature 2:', testRandomFeature2)\n",
    "\n",
    "# Get random weight vector\n",
    "WEIGHT_VECTOR = []\n",
    "for i in range(len(testInitialBasisFunction)):\n",
    "    WEIGHT_VECTOR.append(np.random.uniform(low = -1, high = 1, size = 3))\n",
    "\n",
    "# ALGORITHM 1\n",
    "# Input: td error, threshold, discovered features,  undiscovered features, additional feature index\n",
    "# Output: updated discovered and undiscovered sets\n",
    "def discover(tdError, threshold, discoveredFeatures, undiscoveredFeatures, additionalFeatureIndex, currentBasisFunction, weights): \n",
    "    global GAMMA, THETA \n",
    "    activeFeatures = [i for i, value in enumerate(currentBasisFunction) if value == 1.0]\n",
    "    # Get powerset of active features \n",
    "    current_PowerSet = getPowerSet(activeFeatures)\n",
    "    # Discover any features \n",
    "    activeOldFeatures = [i for i, feature in enumerate(undiscoveredFeatures) if feature in current_PowerSet and feature != set([])]\n",
    "    for i in range(len(activeOldFeatures)):\n",
    "        feature = undiscoveredFeatures[i]\n",
    "        feature[1] += tdError \n",
    "        # Discover the feature if exceed the threshold and delete from undiscoveredFeatures\n",
    "        # Discover feature with probability GAMMA  \n",
    "        randomNumber = np.random.uniform(0, 1)\n",
    "        if randomNumber < GAMMA and feature[1] > threshold and feature != set([]):\n",
    "            additionalFeatureIndex += 1\n",
    "            key = str(additionalFeatureIndex)\n",
    "            discoveredFeatures[key] = feature[0]\n",
    "            # Replace with undiscoverable relevance\n",
    "            # Update sizes of basis and weights\n",
    "            currentBasisFunction.append(0.0)\n",
    "            weights.append(np.random.uniform(low = -1, high = 1, size = 3))\n",
    "            # print('Feature:', feature, 'TDerror:', tdError, 'Feature Index:', additionalFeatureIndex)\n",
    "            undiscoveredFeatures[i][1] = -1e20\n",
    "                                                                              \n",
    "    # Add new features  \n",
    "    newUndiscoveredFeatures = [i for i, feature in enumerate(current_PowerSet) \n",
    "                               if feature[0] not in discoveredFeatures.values() \n",
    "                               and feature not in undiscoveredFeatures\n",
    "                               and feature != set([])]\n",
    "    for i in range(len(newUndiscoveredFeatures)): \n",
    "        feature = current_PowerSet[i]\n",
    "        randomNumber = np.random.uniform(0, 1)\n",
    "        if randomNumber < THETA:\n",
    "            undiscoveredFeatures.append(feature)           \n",
    "    return discoveredFeatures, undiscoveredFeatures, additionalFeatureIndex                                            "
   ]
  },
  {
   "cell_type": "markdown",
   "metadata": {},
   "source": [
    "- We define a simple method for updating the correct weights based on the active indices of the basis function using Q-Learning, as well as a method for initializing a weight vector. "
   ]
  },
  {
   "cell_type": "code",
   "execution_count": 266,
   "metadata": {},
   "outputs": [
    {
     "name": "stdout",
     "output_type": "stream",
     "text": [
      "Sample Observation: [ 0.35443314 -1.18016702  1.03809407  0.39841719  0.15973827 -0.03424576\n",
      "  1.02464274 -2.30086411] \n",
      "Sample Action: [0, 0.036]\n"
     ]
    }
   ],
   "source": [
    "testInitialState, testInitialAction = generateObservation()\n",
    "testInitialObservation = observationProcessor(testInitialState, testInitialAction)\n",
    "testInitialBasisFunction, testInitialActiveIndex = basisFunction(testInitialObservation)\n",
    "testInitialPowerSet = getPowerSet(testInitialActiveIndex)\n",
    "testInitialDiscovered, testInitialUndiscovered = getInitialDiscoveredUndiscovered(testInitialActiveIndex)\n",
    "\n",
    "# Input: weights, activeIndex, actionIndex, reward, oldQValue, newQValues, tdError\n",
    "# Output: weights \n",
    "def updateWeights(weights, activeIndex, actionIndex, reward, oldQValue, newQValues):\n",
    "    for i in range(len(activeIndex)): \n",
    "        tdError = reward + DISCOUNT_FACTOR * (max(newQValues) - oldQValue)  \n",
    "        weights[activeIndex[i]][actionIndex] += LEARNING_RATE * tdError\n",
    "    return weights, tdError\n",
    "\n",
    "# Input: initial basis function\n",
    "# Output: random weights \n",
    "def initializeWeights(basisFunction):\n",
    "    weightVector = []\n",
    "    for i in range(len(basisFunction)):\n",
    "        weightVector.append(np.random.uniform(low = -1, high = 1, size = 3))\n",
    "    return weightVector"
   ]
  },
  {
   "cell_type": "markdown",
   "metadata": {},
   "source": [
    "- We write down Q-Learning only to track the TD error and emperically define a threshold. We decrement epsilon by 0.0000001 every time step."
   ]
  },
  {
   "cell_type": "code",
   "execution_count": 736,
   "metadata": {},
   "outputs": [
    {
     "name": "stdout",
     "output_type": "stream",
     "text": [
      "Initial Active Features: [1, 15, 23, 37, 46, 56, 66, 77, 93, 100]\n",
      "Len Initial Weight Vector: 106\n",
      "Len Initial Discovered Set: 10 \n",
      "Len Initial Undiscovered Set: 1013\n",
      "Timestep: 0 Time elapsed: 0.02 Cumulative Reward: 0\n",
      "Timestep: 25000 Time elapsed: 9.41 Cumulative Reward: -32.0747\n",
      "Timestep: 50000 Time elapsed: 18.84 Cumulative Reward: -36.7496\n",
      "Timestep: 75000 Time elapsed: 28.35 Cumulative Reward: -11.7686\n",
      "Timestep: 100000 Time elapsed: 37.74 Cumulative Reward: -9.6377\n",
      "Timestep: 125000 Time elapsed: 47.05 Cumulative Reward: 29.6534\n",
      "Timestep: 150000 Time elapsed: 56.48 Cumulative Reward: 43.6914\n",
      "Timestep: 175000 Time elapsed: 65.81 Cumulative Reward: 0.6885\n",
      "Timestep: 200000 Time elapsed: 75.14 Cumulative Reward: 26.0445\n",
      "Timestep: 225000 Time elapsed: 84.57 Cumulative Reward: 56.5968\n",
      "Timestep: 250000 Time elapsed: 93.91 Cumulative Reward: 74.4311\n",
      "Timestep: 275000 Time elapsed: 103.34 Cumulative Reward: 99.9184\n",
      "Timestep: 300000 Time elapsed: 112.71 Cumulative Reward: 112.4356\n",
      "Timestep: 325000 Time elapsed: 122.12 Cumulative Reward: 128.4101\n",
      "Timestep: 350000 Time elapsed: 131.56 Cumulative Reward: 141.4332\n",
      "Timestep: 375000 Time elapsed: 141.04 Cumulative Reward: 159.1904\n",
      "Timestep: 400000 Time elapsed: 150.5 Cumulative Reward: 146.067\n",
      "Timestep: 425000 Time elapsed: 159.79 Cumulative Reward: 150.4121\n",
      "Timestep: 450000 Time elapsed: 169.23 Cumulative Reward: 159.6621\n",
      "Timestep: 475000 Time elapsed: 178.56 Cumulative Reward: 166.1466\n",
      "Timestep: 500000 Time elapsed: 187.99 Cumulative Reward: 154.5346\n",
      "Timestep: 525000 Time elapsed: 197.43 Cumulative Reward: 129.4388\n",
      "Timestep: 550000 Time elapsed: 206.79 Cumulative Reward: 125.2053\n",
      "Timestep: 575000 Time elapsed: 216.45 Cumulative Reward: 103.9121\n",
      "Timestep: 600000 Time elapsed: 225.82 Cumulative Reward: 92.4029\n",
      "Timestep: 625000 Time elapsed: 235.34 Cumulative Reward: 96.926\n",
      "Timestep: 650000 Time elapsed: 244.79 Cumulative Reward: 104.4651\n",
      "Timestep: 675000 Time elapsed: 254.18 Cumulative Reward: 112.2298\n",
      "Timestep: 700000 Time elapsed: 263.75 Cumulative Reward: 97.9811\n",
      "Timestep: 725000 Time elapsed: 273.86 Cumulative Reward: 105.446\n",
      "Timestep: 750000 Time elapsed: 283.71 Cumulative Reward: 95.7544\n",
      "Timestep: 775000 Time elapsed: 293.33 Cumulative Reward: 102.072\n",
      "Timestep: 800000 Time elapsed: 302.72 Cumulative Reward: 47.2513\n",
      "Timestep: 825000 Time elapsed: 312.17 Cumulative Reward: 84.451\n",
      "Timestep: 850000 Time elapsed: 321.64 Cumulative Reward: 58.3381\n",
      "Timestep: 875000 Time elapsed: 331.41 Cumulative Reward: 49.6697\n",
      "Timestep: 900000 Time elapsed: 341.25 Cumulative Reward: 66.8722\n",
      "Timestep: 925000 Time elapsed: 350.72 Cumulative Reward: 86.5709\n",
      "Timestep: 950000 Time elapsed: 360.19 Cumulative Reward: 105.6887\n",
      "Timestep: 975000 Time elapsed: 369.93 Cumulative Reward: 127.345\n",
      "Timestep: 1000000 Time elapsed: 379.41 Cumulative Reward: 127.9672\n",
      "Timestep: 1025000 Time elapsed: 388.82 Cumulative Reward: 94.3516\n",
      "Timestep: 1050000 Time elapsed: 398.11 Cumulative Reward: 129.0139\n",
      "Timestep: 1075000 Time elapsed: 407.61 Cumulative Reward: 86.1354\n",
      "Timestep: 1100000 Time elapsed: 416.95 Cumulative Reward: 92.5605\n",
      "Timestep: 1125000 Time elapsed: 426.4 Cumulative Reward: 61.2862\n",
      "Timestep: 1150000 Time elapsed: 435.83 Cumulative Reward: 35.0247\n",
      "Timestep: 1175000 Time elapsed: 445.24 Cumulative Reward: 38.7147\n",
      "Timestep: 1200000 Time elapsed: 454.87 Cumulative Reward: 18.4884\n",
      "Timestep: 1225000 Time elapsed: 464.26 Cumulative Reward: -2.9168\n",
      "Timestep: 1250000 Time elapsed: 473.75 Cumulative Reward: 8.1195\n",
      "Timestep: 1275000 Time elapsed: 483.1 Cumulative Reward: -15.1582\n",
      "Timestep: 1300000 Time elapsed: 493.17 Cumulative Reward: 25.3263\n",
      "Timestep: 1325000 Time elapsed: 503.08 Cumulative Reward: 60.2462\n",
      "Timestep: 1350000 Time elapsed: 512.48 Cumulative Reward: 83.7083\n",
      "Timestep: 1375000 Time elapsed: 521.9 Cumulative Reward: 103.5584\n",
      "Timestep: 1400000 Time elapsed: 531.41 Cumulative Reward: 104.8341\n",
      "Timestep: 1425000 Time elapsed: 540.79 Cumulative Reward: 85.3493\n",
      "Timestep: 1450000 Time elapsed: 550.19 Cumulative Reward: 73.1873\n",
      "Timestep: 1475000 Time elapsed: 559.56 Cumulative Reward: 69.1101\n",
      "Timestep: 1500000 Time elapsed: 568.95 Cumulative Reward: 65.261\n",
      "Timestep: 1525000 Time elapsed: 578.29 Cumulative Reward: 57.3159\n",
      "Timestep: 1550000 Time elapsed: 587.74 Cumulative Reward: 70.6224\n",
      "Timestep: 1575000 Time elapsed: 597.17 Cumulative Reward: 57.6204\n",
      "Timestep: 1600000 Time elapsed: 606.47 Cumulative Reward: 80.9995\n",
      "Timestep: 1625000 Time elapsed: 615.88 Cumulative Reward: 69.1211\n",
      "Timestep: 1650000 Time elapsed: 625.31 Cumulative Reward: 95.3443\n",
      "Timestep: 1675000 Time elapsed: 634.73 Cumulative Reward: 93.3842\n",
      "Timestep: 1700000 Time elapsed: 644.14 Cumulative Reward: 71.1131\n",
      "Timestep: 1725000 Time elapsed: 653.45 Cumulative Reward: 70.313\n",
      "Timestep: 1750000 Time elapsed: 663.1 Cumulative Reward: 105.9705\n",
      "Timestep: 1775000 Time elapsed: 673.13 Cumulative Reward: 93.3423\n",
      "Timestep: 1800000 Time elapsed: 682.88 Cumulative Reward: 43.728\n",
      "Timestep: 1825000 Time elapsed: 692.13 Cumulative Reward: 56.8098\n",
      "Timestep: 1850000 Time elapsed: 701.14 Cumulative Reward: 62.5413\n",
      "Timestep: 1875000 Time elapsed: 711.12 Cumulative Reward: 3.7599\n",
      "Timestep: 1900000 Time elapsed: 721.48 Cumulative Reward: -31.703\n",
      "Timestep: 1925000 Time elapsed: 731.51 Cumulative Reward: -20.3181\n",
      "Timestep: 1950000 Time elapsed: 741.31 Cumulative Reward: -83.3485\n",
      "Timestep: 1975000 Time elapsed: 750.8 Cumulative Reward: -99.6774\n"
     ]
    }
   ],
   "source": [
    "start_time = time.time()\n",
    "TDErrorList1 = []\n",
    "RewardList1 = []\n",
    "totalReward1 = 0\n",
    "EPSILON = 0.01\n",
    "for episode in range(1):\n",
    "    # Start episode with random initial state and action   \n",
    "    initialState, initialAction = generateRandomStateActionPair()\n",
    "    # Process initial state and action\n",
    "    initialObservation = observationProcessor(initialState, initialAction)\n",
    "    # Get initial basis function and active indices \n",
    "    initialBasisFunction, initialActiveIndex = basisFunction(initialObservation)\n",
    "    print('Initial Active Features:', initialActiveIndex)\n",
    "    # Initialize weights \n",
    "    WEIGHT_VECTOR = initializeWeights(initialBasisFunction)\n",
    "    print('Len Initial Weight Vector:', len(WEIGHT_VECTOR))\n",
    "    # Divide into initial discovered and undiscovered feature sets\n",
    "    DISCOVERED, UNDISCOVERED = getInitialDiscoveredUndiscovered(initialActiveIndex)\n",
    "    print('Len Initial Discovered Set:', len(DISCOVERED), '\\nLen Initial Undiscovered Set:', len(UNDISCOVERED))\n",
    "    # Begin learning \n",
    "    oldObservation = initialObservation \n",
    "    # Multiply basis function and weights together\n",
    "    oldQValues = np.dot(initialBasisFunction, WEIGHT_VECTOR)\n",
    "    for timeSteps in range(2000000):\n",
    "        # Choose an action using epsilon-greedy\n",
    "        action, actionIndex = jointEpsilonGreedy(oldQValues)\n",
    "        # Get old Q value\n",
    "        oldQValue = 0.5 * (oldQValues[actionIndex[0]] + oldQValues[actionIndex[1]])\n",
    "        # Take a step in the environment \n",
    "        state, reward, done, info = env.step(action)\n",
    "        # Process observation\n",
    "        currentObservation = observationProcessor(state, action)\n",
    "        # Get basis function\n",
    "        currentBasisFunction, currentActiveIndex = basisFunction(currentObservation)\n",
    "        # Calculate new Q-values \n",
    "        currentQValues = np.dot(currentBasisFunction, WEIGHT_VECTOR)\n",
    "        # Update weights\n",
    "        WEIGHT_VECTOR, currentTDError = updateWeights(WEIGHT_VECTOR, \n",
    "                                      currentActiveIndex, \n",
    "                                      actionIndex, \n",
    "                                      reward, \n",
    "                                      oldQValue, \n",
    "                                      currentQValues)\n",
    "        # Logging \n",
    "        # Outputs information every 25000 timesteps\n",
    "        if timeSteps % 25000 == 0:\n",
    "            current_time = time.time()\n",
    "            print('Timestep:', timeSteps, \n",
    "                  'Time elapsed:', round(current_time - start_time, 2),\n",
    "                  'Cumulative Reward:', round(totalReward1, 4))\n",
    "        \n",
    "        # Set current observation and Q-value to old\n",
    "        EPSILON += 0.00000001\n",
    "        totalReward1 += reward\n",
    "        TDErrorList1.append(currentTDError)\n",
    "        RewardList1.append(totalReward1)\n",
    "        oldObservation = currentObservation\n",
    "        oldQValues = currentQValues      "
   ]
  },
  {
   "cell_type": "markdown",
   "metadata": {},
   "source": [
    "- TD error over 2 million time-steps"
   ]
  },
  {
   "cell_type": "code",
   "execution_count": 737,
   "metadata": {},
   "outputs": [
    {
     "data": {
      "text/plain": [
       "[<matplotlib.lines.Line2D at 0x2612907bef0>]"
      ]
     },
     "execution_count": 737,
     "metadata": {},
     "output_type": "execute_result"
    },
    {
     "data": {
      "image/png": "[encoded data removed]",
      "text/plain": [
       "<matplotlib.figure.Figure at 0x260fd5dd8d0>"
      ]
     },
     "metadata": {},
     "output_type": "display_data"
    }
   ],
   "source": [
    "plt.title('Temporal-Difference Error Over Time')\n",
    "plt.xlabel('Time Steps')\n",
    "plt.ylabel('TD Error')\n",
    "plt.plot(TDErrorList1)"
   ]
  },
  {
   "cell_type": "markdown",
   "metadata": {},
   "source": [
    "- Total Reward over 2 million time-steps"
   ]
  },
  {
   "cell_type": "code",
   "execution_count": 738,
   "metadata": {},
   "outputs": [
    {
     "data": {
      "text/plain": [
       "[<matplotlib.lines.Line2D at 0x261290f87f0>]"
      ]
     },
     "execution_count": 738,
     "metadata": {},
     "output_type": "execute_result"
    },
    {
     "data": {
      "image/png": "[encoded data removed]",
      "text/plain": [
       "<matplotlib.figure.Figure at 0x26092b36cc0>"
      ]
     },
     "metadata": {},
     "output_type": "display_data"
    }
   ],
   "source": [
    "plt.title('Cumulative Reward Over Time')\n",
    "plt.xlabel('Time Steps')\n",
    "plt.ylabel('Reward')\n",
    "plt.plot(RewardList1)"
   ]
  },
  {
   "cell_type": "markdown",
   "metadata": {},
   "source": [
    "- We write down Q-Learning with IFDD. We increment epsilon by 0.00000001 every time step."
   ]
  },
  {
   "cell_type": "code",
   "execution_count": 735,
   "metadata": {
    "scrolled": true
   },
   "outputs": [
    {
     "name": "stdout",
     "output_type": "stream",
     "text": [
      "Initial Active Features: [4, 15, 22, 36, 46, 56, 67, 81, 92, 100]\n",
      "Len Initial Weight Vector: 106\n",
      "Len Initial Discovered Set: 10 \n",
      "Len Initial Undiscovered Set: 1013\n",
      "Timestep: 0 Elapsed: 0.08 DISCOVERED: 10 UNDISCOVERED: 1013 Basis: 106 Weights: 106 Cumul. Reward: 0\n",
      "Timestep: 25000 Elapsed: 12.77 DISCOVERED: 10 UNDISCOVERED: 1016 Basis: 106 Weights: 106 Cumul. Reward: 51.29\n",
      "Timestep: 50000 Elapsed: 25.37 DISCOVERED: 10 UNDISCOVERED: 1023 Basis: 106 Weights: 106 Cumul. Reward: 37.5584\n",
      "Timestep: 75000 Elapsed: 37.99 DISCOVERED: 10 UNDISCOVERED: 1027 Basis: 106 Weights: 106 Cumul. Reward: 38.1815\n",
      "Timestep: 100000 Elapsed: 50.49 DISCOVERED: 10 UNDISCOVERED: 1028 Basis: 106 Weights: 106 Cumul. Reward: 49.4848\n",
      "Timestep: 125000 Elapsed: 63.0 DISCOVERED: 10 UNDISCOVERED: 1038 Basis: 106 Weights: 106 Cumul. Reward: 66.1139\n",
      "Timestep: 150000 Elapsed: 75.63 DISCOVERED: 10 UNDISCOVERED: 1044 Basis: 106 Weights: 106 Cumul. Reward: 110.9073\n",
      "Timestep: 175000 Elapsed: 88.24 DISCOVERED: 10 UNDISCOVERED: 1051 Basis: 106 Weights: 106 Cumul. Reward: 94.8411\n",
      "Timestep: 200000 Elapsed: 100.94 DISCOVERED: 10 UNDISCOVERED: 1056 Basis: 106 Weights: 106 Cumul. Reward: 125.8159\n",
      "Timestep: 225000 Elapsed: 113.57 DISCOVERED: 10 UNDISCOVERED: 1063 Basis: 106 Weights: 106 Cumul. Reward: 100.3626\n",
      "Timestep: 250000 Elapsed: 126.45 DISCOVERED: 11 UNDISCOVERED: 1065 Basis: 107 Weights: 107 Cumul. Reward: 129.6606\n",
      "Timestep: 275000 Elapsed: 141.0 DISCOVERED: 11 UNDISCOVERED: 1070 Basis: 107 Weights: 107 Cumul. Reward: 169.8729\n",
      "Timestep: 300000 Elapsed: 155.72 DISCOVERED: 12 UNDISCOVERED: 1078 Basis: 108 Weights: 108 Cumul. Reward: 153.327\n",
      "Timestep: 325000 Elapsed: 172.08 DISCOVERED: 12 UNDISCOVERED: 1082 Basis: 108 Weights: 108 Cumul. Reward: 198.2759\n",
      "Timestep: 350000 Elapsed: 189.28 DISCOVERED: 13 UNDISCOVERED: 1088 Basis: 109 Weights: 109 Cumul. Reward: 221.314\n",
      "Timestep: 375000 Elapsed: 208.32 DISCOVERED: 15 UNDISCOVERED: 1091 Basis: 111 Weights: 111 Cumul. Reward: 212.2028\n",
      "Timestep: 400000 Elapsed: 229.58 DISCOVERED: 15 UNDISCOVERED: 1094 Basis: 111 Weights: 111 Cumul. Reward: 264.6691\n",
      "Timestep: 425000 Elapsed: 250.74 DISCOVERED: 15 UNDISCOVERED: 1100 Basis: 111 Weights: 111 Cumul. Reward: 279.4227\n",
      "Timestep: 450000 Elapsed: 271.93 DISCOVERED: 15 UNDISCOVERED: 1106 Basis: 111 Weights: 111 Cumul. Reward: 307.1544\n",
      "Timestep: 475000 Elapsed: 293.36 DISCOVERED: 15 UNDISCOVERED: 1114 Basis: 111 Weights: 111 Cumul. Reward: 285.052\n",
      "Timestep: 500000 Elapsed: 314.71 DISCOVERED: 15 UNDISCOVERED: 1116 Basis: 111 Weights: 111 Cumul. Reward: 315.3612\n",
      "Timestep: 525000 Elapsed: 335.91 DISCOVERED: 15 UNDISCOVERED: 1121 Basis: 111 Weights: 111 Cumul. Reward: 353.4836\n",
      "Timestep: 550000 Elapsed: 357.27 DISCOVERED: 15 UNDISCOVERED: 1125 Basis: 111 Weights: 111 Cumul. Reward: 367.4816\n",
      "Timestep: 575000 Elapsed: 383.64 DISCOVERED: 17 UNDISCOVERED: 1131 Basis: 113 Weights: 113 Cumul. Reward: 358.4676\n",
      "Timestep: 600000 Elapsed: 417.56 DISCOVERED: 22 UNDISCOVERED: 1135 Basis: 118 Weights: 118 Cumul. Reward: 375.1376\n",
      "Timestep: 625000 Elapsed: 464.82 DISCOVERED: 26 UNDISCOVERED: 1140 Basis: 122 Weights: 122 Cumul. Reward: 380.0652\n",
      "Timestep: 650000 Elapsed: 518.55 DISCOVERED: 29 UNDISCOVERED: 1142 Basis: 125 Weights: 125 Cumul. Reward: 364.8463\n",
      "Timestep: 675000 Elapsed: 583.3 DISCOVERED: 32 UNDISCOVERED: 1147 Basis: 128 Weights: 128 Cumul. Reward: 370.583\n",
      "Timestep: 700000 Elapsed: 655.27 DISCOVERED: 33 UNDISCOVERED: 1150 Basis: 129 Weights: 129 Cumul. Reward: 321.9607\n",
      "Timestep: 725000 Elapsed: 737.77 DISCOVERED: 38 UNDISCOVERED: 1153 Basis: 134 Weights: 134 Cumul. Reward: 275.5012\n",
      "Timestep: 750000 Elapsed: 833.55 DISCOVERED: 43 UNDISCOVERED: 1157 Basis: 139 Weights: 139 Cumul. Reward: 309.017\n",
      "Timestep: 775000 Elapsed: 939.18 DISCOVERED: 46 UNDISCOVERED: 1162 Basis: 142 Weights: 142 Cumul. Reward: 246.4196\n",
      "Timestep: 800000 Elapsed: 1051.71 DISCOVERED: 48 UNDISCOVERED: 1165 Basis: 144 Weights: 144 Cumul. Reward: 220.209\n",
      "Timestep: 825000 Elapsed: 1171.76 DISCOVERED: 54 UNDISCOVERED: 1167 Basis: 150 Weights: 150 Cumul. Reward: 239.8474\n",
      "Timestep: 850000 Elapsed: 1316.0 DISCOVERED: 59 UNDISCOVERED: 1170 Basis: 155 Weights: 155 Cumul. Reward: 272.5269\n",
      "Timestep: 875000 Elapsed: 1470.83 DISCOVERED: 63 UNDISCOVERED: 1174 Basis: 159 Weights: 159 Cumul. Reward: 256.4607\n",
      "Timestep: 900000 Elapsed: 1635.15 DISCOVERED: 65 UNDISCOVERED: 1180 Basis: 161 Weights: 161 Cumul. Reward: 229.6982\n",
      "Timestep: 925000 Elapsed: 1805.23 DISCOVERED: 67 UNDISCOVERED: 1184 Basis: 163 Weights: 163 Cumul. Reward: 237.1737\n",
      "Timestep: 950000 Elapsed: 1984.62 DISCOVERED: 72 UNDISCOVERED: 1186 Basis: 168 Weights: 168 Cumul. Reward: 281.3854\n",
      "Timestep: 975000 Elapsed: 2191.13 DISCOVERED: 78 UNDISCOVERED: 1189 Basis: 174 Weights: 174 Cumul. Reward: 290.9269\n",
      "Timestep: 1000000 Elapsed: 2405.16 DISCOVERED: 79 UNDISCOVERED: 1194 Basis: 175 Weights: 175 Cumul. Reward: 275.942\n",
      "Timestep: 1025000 Elapsed: 2622.38 DISCOVERED: 80 UNDISCOVERED: 1200 Basis: 176 Weights: 176 Cumul. Reward: 254.6146\n",
      "Timestep: 1050000 Elapsed: 2850.65 DISCOVERED: 82 UNDISCOVERED: 1201 Basis: 178 Weights: 178 Cumul. Reward: 298.4993\n",
      "Timestep: 1075000 Elapsed: 3084.34 DISCOVERED: 85 UNDISCOVERED: 1206 Basis: 181 Weights: 181 Cumul. Reward: 289.387\n",
      "Timestep: 1100000 Elapsed: 3334.92 DISCOVERED: 89 UNDISCOVERED: 1207 Basis: 185 Weights: 185 Cumul. Reward: 334.9662\n",
      "Timestep: 1125000 Elapsed: 3591.4 DISCOVERED: 92 UNDISCOVERED: 1211 Basis: 188 Weights: 188 Cumul. Reward: 368.1538\n",
      "Timestep: 1150000 Elapsed: 3868.93 DISCOVERED: 94 UNDISCOVERED: 1214 Basis: 190 Weights: 190 Cumul. Reward: 363.1091\n",
      "Timestep: 1175000 Elapsed: 4159.74 DISCOVERED: 100 UNDISCOVERED: 1217 Basis: 196 Weights: 196 Cumul. Reward: 399.3228\n",
      "Timestep: 1200000 Elapsed: 4469.9 DISCOVERED: 101 UNDISCOVERED: 1222 Basis: 197 Weights: 197 Cumul. Reward: 393.3483\n",
      "Timestep: 1225000 Elapsed: 4787.86 DISCOVERED: 104 UNDISCOVERED: 1229 Basis: 200 Weights: 200 Cumul. Reward: 389.1086\n",
      "Timestep: 1250000 Elapsed: 5111.65 DISCOVERED: 104 UNDISCOVERED: 1233 Basis: 200 Weights: 200 Cumul. Reward: 394.9838\n",
      "Timestep: 1275000 Elapsed: 5435.09 DISCOVERED: 105 UNDISCOVERED: 1235 Basis: 201 Weights: 201 Cumul. Reward: 389.5905\n",
      "Timestep: 1300000 Elapsed: 5770.75 DISCOVERED: 109 UNDISCOVERED: 1243 Basis: 205 Weights: 205 Cumul. Reward: 359.5949\n",
      "Timestep: 1325000 Elapsed: 6119.03 DISCOVERED: 111 UNDISCOVERED: 1247 Basis: 207 Weights: 207 Cumul. Reward: 393.9878\n",
      "Timestep: 1350000 Elapsed: 6488.19 DISCOVERED: 116 UNDISCOVERED: 1255 Basis: 212 Weights: 212 Cumul. Reward: 428.9971\n",
      "Timestep: 1375000 Elapsed: 6864.71 DISCOVERED: 116 UNDISCOVERED: 1258 Basis: 212 Weights: 212 Cumul. Reward: 451.9711\n",
      "Timestep: 1400000 Elapsed: 7244.67 DISCOVERED: 118 UNDISCOVERED: 1259 Basis: 214 Weights: 214 Cumul. Reward: 456.1742\n",
      "Timestep: 1425000 Elapsed: 7636.4 DISCOVERED: 121 UNDISCOVERED: 1259 Basis: 217 Weights: 217 Cumul. Reward: 480.8261\n",
      "Timestep: 1450000 Elapsed: 8039.4 DISCOVERED: 124 UNDISCOVERED: 1262 Basis: 220 Weights: 220 Cumul. Reward: 501.4951\n",
      "Timestep: 1475000 Elapsed: 8454.03 DISCOVERED: 126 UNDISCOVERED: 1267 Basis: 222 Weights: 222 Cumul. Reward: 530.903\n",
      "Timestep: 1500000 Elapsed: 8888.14 DISCOVERED: 130 UNDISCOVERED: 1269 Basis: 226 Weights: 226 Cumul. Reward: 561.2816\n",
      "Timestep: 1525000 Elapsed: 9347.02 DISCOVERED: 136 UNDISCOVERED: 1277 Basis: 232 Weights: 232 Cumul. Reward: 564.647\n",
      "Timestep: 1550000 Elapsed: 9842.67 DISCOVERED: 142 UNDISCOVERED: 1281 Basis: 238 Weights: 238 Cumul. Reward: 591.3019\n",
      "Timestep: 1575000 Elapsed: 10384.91 DISCOVERED: 147 UNDISCOVERED: 1284 Basis: 243 Weights: 243 Cumul. Reward: 617.3351\n",
      "Timestep: 1600000 Elapsed: 10968.0 DISCOVERED: 155 UNDISCOVERED: 1288 Basis: 251 Weights: 251 Cumul. Reward: 611.8567\n",
      "Timestep: 1625000 Elapsed: 11597.38 DISCOVERED: 161 UNDISCOVERED: 1292 Basis: 257 Weights: 257 Cumul. Reward: 670.359\n",
      "Timestep: 1650000 Elapsed: 12295.42 DISCOVERED: 168 UNDISCOVERED: 1295 Basis: 264 Weights: 264 Cumul. Reward: 665.1647\n",
      "Timestep: 1675000 Elapsed: 13021.68 DISCOVERED: 172 UNDISCOVERED: 1299 Basis: 268 Weights: 268 Cumul. Reward: 682.002\n",
      "Timestep: 1700000 Elapsed: 13813.97 DISCOVERED: 179 UNDISCOVERED: 1302 Basis: 275 Weights: 275 Cumul. Reward: 703.7386\n",
      "Timestep: 1725000 Elapsed: 14636.59 DISCOVERED: 182 UNDISCOVERED: 1310 Basis: 278 Weights: 278 Cumul. Reward: 708.0265\n"
     ]
    },
    {
     "name": "stdout",
     "output_type": "stream",
     "text": [
      "Timestep: 1750000 Elapsed: 15471.05 DISCOVERED: 186 UNDISCOVERED: 1314 Basis: 282 Weights: 282 Cumul. Reward: 678.9978\n",
      "Timestep: 1775000 Elapsed: 16343.5 DISCOVERED: 190 UNDISCOVERED: 1320 Basis: 286 Weights: 286 Cumul. Reward: 732.1671\n",
      "Timestep: 1800000 Elapsed: 17254.17 DISCOVERED: 195 UNDISCOVERED: 1324 Basis: 291 Weights: 291 Cumul. Reward: 691.2434\n",
      "Timestep: 1825000 Elapsed: 18199.83 DISCOVERED: 197 UNDISCOVERED: 1331 Basis: 293 Weights: 293 Cumul. Reward: 690.2226\n",
      "Timestep: 1850000 Elapsed: 19177.13 DISCOVERED: 201 UNDISCOVERED: 1335 Basis: 297 Weights: 297 Cumul. Reward: 698.6704\n",
      "Timestep: 1875000 Elapsed: 20179.88 DISCOVERED: 202 UNDISCOVERED: 1338 Basis: 298 Weights: 298 Cumul. Reward: 735.6615\n",
      "Timestep: 1900000 Elapsed: 21192.07 DISCOVERED: 205 UNDISCOVERED: 1340 Basis: 301 Weights: 301 Cumul. Reward: 737.2058\n",
      "Timestep: 1925000 Elapsed: 22211.49 DISCOVERED: 205 UNDISCOVERED: 1342 Basis: 301 Weights: 301 Cumul. Reward: 812.0089\n",
      "Timestep: 1950000 Elapsed: 23230.86 DISCOVERED: 207 UNDISCOVERED: 1347 Basis: 303 Weights: 303 Cumul. Reward: 790.6161\n",
      "Timestep: 1975000 Elapsed: 24267.15 DISCOVERED: 208 UNDISCOVERED: 1350 Basis: 304 Weights: 304 Cumul. Reward: 846.1474\n"
     ]
    }
   ],
   "source": [
    "start_time = time.time()\n",
    "TDErrorList2 = []\n",
    "RewardList2 = []\n",
    "DiscoverTimeList = []\n",
    "totalReward2 = 0\n",
    "currentTDError = 0\n",
    "EPSILON = 0.01\n",
    "discoverFrequency = 500\n",
    "global THRESHOLD\n",
    "for episode in range(1):\n",
    "    # Start episode with random initial state and action   \n",
    "    initialState, initialAction = generateRandomStateActionPair()\n",
    "    # Process initial state and action\n",
    "    initialObservation = observationProcessor(initialState, initialAction)\n",
    "    # Get initial basis function and active indices \n",
    "    initialBasisFunction, initialActiveIndex = basisFunction(initialObservation)\n",
    "    print('Initial Active Features:', initialActiveIndex)\n",
    "    # Initialize ADDITIONAL_FEATURE_INDEX \n",
    "    ADDITIONAL_FEATURE_INDEX = len(initialBasisFunction)\n",
    "    # Initialize weights \n",
    "    WEIGHT_VECTOR = initializeWeights(initialBasisFunction)\n",
    "    print('Len Initial Weight Vector:', len(WEIGHT_VECTOR))\n",
    "    # Divide into initial discovered and undiscovered feature sets\n",
    "    DISCOVERED, UNDISCOVERED = getInitialDiscoveredUndiscovered(initialActiveIndex)\n",
    "    print('Len Initial Discovered Set:', len(DISCOVERED), '\\nLen Initial Undiscovered Set:', len(UNDISCOVERED))\n",
    "    # Begin learning \n",
    "    oldObservation = initialObservation \n",
    "    # Multiply basis function and weights together\n",
    "    oldQValues = np.dot(initialBasisFunction, WEIGHT_VECTOR)\n",
    "    currentBasisFunction = []\n",
    "    for timeSteps in range(2000000):\n",
    "        # Choose an action using epsilon-greedy\n",
    "        action, actionIndex = jointEpsilonGreedy(oldQValues)\n",
    "        # Get old Q value, which is the average of both Q-values\n",
    "        oldQValue = 0.5 * (oldQValues[actionIndex[0]] + oldQValues[actionIndex[1]])\n",
    "        # Take a step in the environment \n",
    "        state, reward, done, info = env.step(action)\n",
    "        # Process observation\n",
    "        currentObservation = observationProcessor(state, action)\n",
    "        # Get basis function - unmodified basis function for first time step only\n",
    "        unmodifiedBasisFunction, currentActiveIndex = basisFunction(currentObservation)\n",
    "        if timeSteps == 0:\n",
    "            currentBasisFunction = unmodifiedBasisFunction\n",
    "        else:\n",
    "            currentBasisFunction = currentBasisFunction\n",
    "        \n",
    "        # Get modified basis function by inactivating subsets of conjunctions\n",
    "        currentBasisFunction = conjunctionBasisFunction(DISCOVERED, currentBasisFunction)\n",
    "        currentActiveIndex = [i for i, item in enumerate(currentBasisFunction) if item == 1]\n",
    "        \n",
    "       # Calculate new Q-values \n",
    "        currentQValues = np.dot(currentBasisFunction, WEIGHT_VECTOR)\n",
    "        # Update weights using off-policy Q-learning\n",
    "        WEIGHT_VECTOR, currentTDError = updateWeights(WEIGHT_VECTOR, \n",
    "                                      currentActiveIndex, \n",
    "                                      actionIndex, \n",
    "                                      reward, \n",
    "                                      oldQValue, \n",
    "                                      currentQValues)\n",
    "        \n",
    "        # Discover new features\n",
    "        PREVIOUS_DISCOVERED = DISCOVERED \n",
    "        if timeSteps % startingDiscoverFrequency == 0:\n",
    "            DISCOVERED, UNDISCOVERED, ADDITIONAL_FEATURE_INDEX = discover(currentTDError,\n",
    "                                                                        THRESHOLD,\n",
    "                                                                        DISCOVERED,\n",
    "                                                                        UNDISCOVERED,\n",
    "                                                                        ADDITIONAL_FEATURE_INDEX,\n",
    "                                                                        currentBasisFunction,\n",
    "                                                                        WEIGHT_VECTOR) \n",
    "            if len(PREVIOUS_DISCOVERED) < len(DISCOVERED):\n",
    "                current_time = time.time()\n",
    "                DiscoverTimeList.append(round(current_time - start_time, 2))\n",
    "                discoverFrequency += discoverFrequency\n",
    "                                                \n",
    "        # Logging\n",
    "        # Outputs information every 25000 timesteps\n",
    "        if timeSteps % 25000 == 0:\n",
    "            current_time = time.time()\n",
    "            print('Timestep:', timeSteps, \n",
    "                  'Elapsed:', round(current_time - start_time, 2),\n",
    "                  'DISCOVERED:', len(DISCOVERED),\n",
    "                  'UNDISCOVERED:', len(UNDISCOVERED), \n",
    "                  'Basis:', len(currentBasisFunction),\n",
    "                  'Weights:', len(WEIGHT_VECTOR),\n",
    "                  'Cumul. Reward:', round(totalReward2, 4))\n",
    "        \n",
    "        # Set current observation and Q-value to old\n",
    "        EPSILON += 0.00000001\n",
    "        totalReward2 += reward\n",
    "        TDErrorList2.append(currentTDError)\n",
    "        RewardList2.append(totalReward2)\n",
    "        oldObservation = currentObservation\n",
    "        oldQValues = currentQValues   "
   ]
  },
  {
   "cell_type": "markdown",
   "metadata": {},
   "source": [
    "- We plot our results for Q-Learning w/o IFDD vs. Q-Learning w/ IFDD for 2,000,000 timesteps below. "
   ]
  },
  {
   "cell_type": "markdown",
   "metadata": {},
   "source": [
    "- The TD error in both Q-functions are really messy. Theoretically, this should decrease over time as we learn the weights for the optimal value functions."
   ]
  },
  {
   "cell_type": "code",
   "execution_count": 750,
   "metadata": {},
   "outputs": [
    {
     "data": {
      "text/plain": [
       "[<matplotlib.lines.Line2D at 0x2612cd7c6d8>]"
      ]
     },
     "execution_count": 750,
     "metadata": {},
     "output_type": "execute_result"
    },
    {
     "data": {
      "image/png": "[encoded data removed]",
      "text/plain": [
       "<matplotlib.figure.Figure at 0x2612cd4a470>"
      ]
     },
     "metadata": {},
     "output_type": "display_data"
    }
   ],
   "source": [
    "plt.title('Temporal-Difference Error Over Time')\n",
    "plt.xlabel('Time Steps')\n",
    "plt.ylabel('TD Error')\n",
    "plt.plot(TDErrorList1)\n",
    "plt.plot(TDErrorList2)"
   ]
  },
  {
   "cell_type": "markdown",
   "metadata": {},
   "source": [
    "- The reward over time provides a clearer comparison between Q-Learning w/o and w/ iFDD. The orange line is Q-Learning w/ iFDD, which successfully increases its forward distance over time. The blue line is Q-Learning w/o iFDD, which appears to increase in distance at first but then encounter some sort of local minima that prevents it learning the weights to increase its reward. "
   ]
  },
  {
   "cell_type": "code",
   "execution_count": 757,
   "metadata": {},
   "outputs": [
    {
     "data": {
      "text/plain": [
       "[<matplotlib.lines.Line2D at 0x26139fa2358>]"
      ]
     },
     "execution_count": 757,
     "metadata": {},
     "output_type": "execute_result"
    },
    {
     "data": {
      "image/png": "[encoded data removed]",
      "text/plain": [
       "<matplotlib.figure.Figure at 0x26139f27c18>"
      ]
     },
     "metadata": {},
     "output_type": "display_data"
    }
   ],
   "source": [
    "plt.title('Cumulative Reward Over Time')\n",
    "plt.xlabel('Time Steps')\n",
    "plt.ylabel('Reward')\n",
    "plt.plot(RewardList1)\n",
    "plt.plot(RewardList2)\n",
    "# plt.legend((RewardList1, RewardList2), ('Q-Learning w/o iFDD', 'Q-Learning w/ iFDD'))"
   ]
  },
  {
   "cell_type": "code",
   "execution_count": null,
   "metadata": {},
   "outputs": [],
   "source": []
  },
  {
   "cell_type": "code",
   "execution_count": null,
   "metadata": {},
   "outputs": [],
   "source": []
  },
  {
   "cell_type": "code",
   "execution_count": null,
   "metadata": {},
   "outputs": [],
   "source": []
  },
  {
   "cell_type": "code",
   "execution_count": null,
   "metadata": {},
   "outputs": [],
   "source": []
  },
  {
   "cell_type": "code",
   "execution_count": null,
   "metadata": {},
   "outputs": [],
   "source": []
  },
  {
   "cell_type": "code",
   "execution_count": null,
   "metadata": {},
   "outputs": [],
   "source": []
  },
  {
   "cell_type": "code",
   "execution_count": null,
   "metadata": {},
   "outputs": [],
   "source": []
  },
  {
   "cell_type": "code",
   "execution_count": null,
   "metadata": {},
   "outputs": [],
   "source": []
  },
  {
   "cell_type": "code",
   "execution_count": null,
   "metadata": {},
   "outputs": [],
   "source": []
  },
  {
   "cell_type": "code",
   "execution_count": null,
   "metadata": {},
   "outputs": [],
   "source": []
  },
  {
   "cell_type": "code",
   "execution_count": null,
   "metadata": {
    "collapsed": true
   },
   "outputs": [],
   "source": []
  }
 ],
 "metadata": {
  "kernelspec": {
   "display_name": "Python 3",
   "language": "python",
   "name": "python3"
  },
  "language_info": {
   "codemirror_mode": {
    "name": "ipython",
    "version": 3
   },
   "file_extension": ".py",
   "mimetype": "text/x-python",
   "name": "python",
   "nbconvert_exporter": "python",
   "pygments_lexer": "ipython3",
   "version": "3.6.1"
  }
 },
 "nbformat": 4,
 "nbformat_minor": 2
}
